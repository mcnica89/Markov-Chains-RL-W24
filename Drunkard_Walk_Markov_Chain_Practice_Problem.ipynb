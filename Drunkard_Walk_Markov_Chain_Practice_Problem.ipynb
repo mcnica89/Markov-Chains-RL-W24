{
  "nbformat": 4,
  "nbformat_minor": 0,
  "metadata": {
    "colab": {
      "provenance": [],
      "authorship_tag": "ABX9TyP197Licqeb1hRyr7Usl1mi",
      "include_colab_link": true
    },
    "kernelspec": {
      "name": "python3",
      "display_name": "Python 3"
    },
    "language_info": {
      "name": "python"
    }
  },
  "cells": [
    {
      "cell_type": "markdown",
      "metadata": {
        "id": "view-in-github",
        "colab_type": "text"
      },
      "source": [
        "<a href=\"https://colab.research.google.com/github/mcnica89/Markov-Chains-RL-W24/blob/main/Drunkard_Walk_Markov_Chain_Practice_Problem.ipynb\" target=\"_parent\"><img src=\"https://colab.research.google.com/assets/colab-badge.svg\" alt=\"Open In Colab\"/></a>"
      ]
    },
    {
      "cell_type": "code",
      "execution_count": 1,
      "metadata": {
        "id": "YBEm8XaVHi1f"
      },
      "outputs": [],
      "source": [
        "import numpy as np"
      ]
    },
    {
      "cell_type": "markdown",
      "source": [
        "# Warmup Problem : Generating Random numbers in numpy\n",
        "\n",
        "Read about how to make random numbers in numpy.\n",
        "\n",
        "a)  How do you generate a vector of $n$ uniform random numbers from [0,1]?\n",
        "\n",
        "b) How do you generate random dice rolls from a 3 sided dice that has a $50\n",
        "\\%$ chance of showing up $1$, a $30\\%$ chance of showing up $2$ and a $20\\%$ of showing up $3$?"
      ],
      "metadata": {
        "id": "FQNlHwkeKrov"
      }
    },
    {
      "cell_type": "markdown",
      "source": [
        "# Practice Problem : The \"Drunkards Walk\"\n",
        "\n",
        "\n",
        "## Setup\n",
        "A person has decided to take steps randomly. They are on a 1 dimensional street with a police station at position $x=0$ and their house at position $x=n$. They start at some position $x_{init} \\in \\{0,1,\\ldots,n\\}$ and at each time step they either step forward (toward their house) by one unit, advacing their position from $x$ to $x+1$, or step backwards by one unit (towards the police station) by one unit, going from position $x$ to $x-1$. Both directions are equally likely. If they ever reach the house at $x=n$, they go inside and stop walking. If they ever reach the police station at $x=0$, they are arrested and  stop walking.\n",
        "\n",
        "## Questions\n",
        "\n",
        "a) The position of the person is a Markov chain on the state space $\\{0,1,2,\\ldots,n\\}$. (Note: this state space has $n+1$ states in it. The largest state is state $n$ because we start at $0$). State 0 is the Police Station. State n is the House.\n",
        "\n",
        "Write a function that inputs $n$ and outputs the $n+1 \\times n+1$ Transition Probability matrix."
      ],
      "metadata": {
        "id": "yZURf4oDHjMw"
      }
    },
    {
      "cell_type": "code",
      "source": [
        "def drunkards_walk_transition_matrix(n):\n",
        "  #Input:\n",
        "  # n: a positive integer\n",
        "  #    represents the location of the Drunkard's house\n",
        "  # Output:\n",
        "  #  answer = numpy array of shape (n+1,n+1) of floats\n",
        "  #           Transition probability matrix for the Markov chain on state space [0,1,..n]\n",
        "  #           State 0 is the Police Station. State n is the House.\n",
        "\n",
        "  answer = np.zeros(n+1,n+1)\n",
        "  #\n",
        "  # Your code here\n",
        "  #\n",
        "  return answer"
      ],
      "metadata": {
        "id": "XZoT5u_HItCL"
      },
      "execution_count": null,
      "outputs": []
    },
    {
      "cell_type": "markdown",
      "source": [
        "b) Write a function that inputs $n$, the initial location of the Drunkard $x_{init} \\in \\{1,\\ldots,n-1\\}$ and outputs the probability of making it home safe. Your answer should be accurate to within 0.01%."
      ],
      "metadata": {
        "id": "E2vwNdrAJXNH"
      }
    },
    {
      "cell_type": "code",
      "source": [
        "def drunkards_walk_probability(n,x_init)\n",
        "  #Input:\n",
        "  # n: a positive integer\n",
        "  #    represents the location of the Drunkard's house\n",
        "  # x_init: the starting location of the drunkard\n",
        "  #Output:\n",
        "  # answer : a float in [0,1]\n",
        "  #          which represents the probabilites the drunkard eventually makes it home safe.\n",
        "\n",
        "  answer = 0.0\n",
        "  #\n",
        "  # Your code here\n",
        "  #\n",
        "  return answer"
      ],
      "metadata": {
        "id": "cloxnwZyJeYI"
      },
      "execution_count": null,
      "outputs": []
    },
    {
      "cell_type": "markdown",
      "source": [
        "c) Write a function that inputs $n$, the initial location of the Drunkard $x_{init} \\in \\{1,\\ldots,n-1\\}$ and outputs the expected number of steps until the Drunkard is either caught at the police station or makes it home. Your answer should be accurate to within 0.0001."
      ],
      "metadata": {
        "id": "gYDMfduQKPLu"
      }
    },
    {
      "cell_type": "code",
      "source": [
        "def drunkards_walk_E_steps(n,x_init)\n",
        "  #Input:\n",
        "  # n: a positive integer\n",
        "  #    represents the location of the Drunkard's house\n",
        "  # x_init: the starting location of the drunkard\n",
        "  #Output:\n",
        "  # answer : a non-negative float\n",
        "  #          which represents the Expected number of steps until the Drunkard\n",
        "  #          is either caught by police or makes it home safe\n",
        "\n",
        "  answer = 0.0\n",
        "  #\n",
        "  # Your code here\n",
        "  #\n",
        "  return answer"
      ],
      "metadata": {
        "id": "X57QV6pnKbOh"
      },
      "execution_count": null,
      "outputs": []
    }
  ]
}