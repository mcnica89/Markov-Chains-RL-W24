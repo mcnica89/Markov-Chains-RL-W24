{
  "nbformat": 4,
  "nbformat_minor": 0,
  "metadata": {
    "colab": {
      "provenance": [],
      "authorship_tag": "ABX9TyPzzMBrw9daZv+GNgj1GRAU",
      "include_colab_link": true
    },
    "kernelspec": {
      "name": "python3",
      "display_name": "Python 3"
    },
    "language_info": {
      "name": "python"
    }
  },
  "cells": [
    {
      "cell_type": "markdown",
      "metadata": {
        "id": "view-in-github",
        "colab_type": "text"
      },
      "source": [
        "<a href=\"https://colab.research.google.com/github/mcnica89/Markov-Chains-RL-W24/blob/main/Drunkards_Walk_Markov_Chain_Example.ipynb\" target=\"_parent\"><img src=\"https://colab.research.google.com/assets/colab-badge.svg\" alt=\"Open In Colab\"/></a>"
      ]
    },
    {
      "cell_type": "markdown",
      "source": [
        "Falls off cliff at $x=0$, and reaches home at $x=n$. At each step, 50% chance to go up or down."
      ],
      "metadata": {
        "id": "9Drpc1s9h-QX"
      }
    },
    {
      "cell_type": "code",
      "execution_count": 29,
      "metadata": {
        "id": "OQ2sZ5N4h1tb"
      },
      "outputs": [],
      "source": [
        "import numpy as np\n",
        "np.set_printoptions(precision=4,suppress=True)"
      ]
    },
    {
      "cell_type": "code",
      "source": [
        "n = 10\n",
        "\n",
        "TransitionMatrix = np.zeros((n+1,n+1),dtype=float)\n",
        "\n",
        "TransitionMatrix[0,0]=1 #if you start at 0, you stay at 0\n",
        "TransitionMatrix[n,n]=1 #if you start at n, you stay at n\n",
        "#loop over all possible intermediate states\n",
        "for from_ix in range(1,n):\n",
        "  TransitionMatrix[from_ix,from_ix + 1] = 0.5 #50% chance to move up by 1\n",
        "  TransitionMatrix[from_ix,from_ix - 1] = 0.5 #50% chance to move down by 1\n",
        ""
      ],
      "metadata": {
        "id": "TcoQ5l13iSLv"
      },
      "execution_count": 30,
      "outputs": []
    },
    {
      "cell_type": "markdown",
      "source": [
        "\n",
        "# Limiting Probabilities - Power method"
      ],
      "metadata": {
        "id": "jl_VLA0-jTEx"
      }
    },
    {
      "cell_type": "code",
      "source": [
        "x_init = 2\n",
        "p_init = np.zeros(n+1,dtype=float)\n",
        "p_init[x_init] = 1.0\n",
        "\n",
        "big_t = 100\n",
        "p_final_approx = p_init @ np.linalg.matrix_power(TransitionMatrix,big_t)\n",
        "print(f\"{p_final_approx=}\")"
      ],
      "metadata": {
        "colab": {
          "base_uri": "https://localhost:8080/"
        },
        "id": "jca9QpQgjZkt",
        "outputId": "e1d5e668-e576-40ad-d20e-241bb88d6b41"
      },
      "execution_count": 31,
      "outputs": [
        {
          "output_type": "stream",
          "name": "stdout",
          "text": [
            "p_final_approx=array([0.7976, 0.    , 0.0009, 0.    , 0.0015, 0.    , 0.0015, 0.    ,\n",
            "       0.0009, 0.    , 0.1976])\n"
          ]
        }
      ]
    },
    {
      "cell_type": "markdown",
      "source": [
        "# Limiting Probabilities - Equation Method"
      ],
      "metadata": {
        "id": "Ei5lqQ3vjWp7"
      }
    },
    {
      "cell_type": "code",
      "source": [
        "#use the fact that in the limit all the eigenvalues that are strictly < 1 will vanish\n",
        "\n",
        "eigenvalues, eigenvectors = np.linalg.eig(TransitionMatrix)\n",
        "TransitionMatrix_eig = eigenvectors @ np.diag(eigenvalues) @ np.linalg.inv(eigenvectors) #this is the eigen decomposition of the transition matrix\n",
        "print(f\"{np.allclose(TransitionMatrix_eig,TransitionMatrix)=}\")\n",
        "\n",
        "\n",
        "#round all the eigenvalues which are |lambda|<1 down to 0. Keep any that are =1 as 1\n",
        "rounded_eigs = 1.0*np.isclose(eigenvalues,1.0)\n",
        "#this is equivalent to rounded_eigs[k] = 1.0 if eigenvalues[k]==1 and rounded_eigs[k] = 0.0 if not.\n",
        "\n",
        "\n",
        "print(f\"{rounded_eigs=}\")\n",
        "\n",
        "LimitingTransitionMatrix = eigenvectors @ np.diag(rounded_eigs) @ np.linalg.inv(eigenvectors) #this is the eigen decomposition of the transition matrix\n",
        "print(f\"{LimitingTransitionMatrix=}\")"
      ],
      "metadata": {
        "colab": {
          "base_uri": "https://localhost:8080/"
        },
        "id": "Y_2_5LKjj2Kk",
        "outputId": "88629424-e5ce-46e9-a4c4-a42bfb9c6b78"
      },
      "execution_count": 56,
      "outputs": [
        {
          "output_type": "stream",
          "name": "stdout",
          "text": [
            "np.allclose(TransitionMatrix_eig,TransitionMatrix)=True\n",
            "rounded_eigs=array([0., 0., 0., 0., 0., 0., 0., 0., 0., 1., 1.])\n",
            "LimitingTransitionMatrix=array([[1. , 0. , 0. , 0. , 0. , 0. , 0. , 0. , 0. , 0. , 0. ],\n",
            "       [0.9, 0. , 0. , 0. , 0. , 0. , 0. , 0. , 0. , 0. , 0.1],\n",
            "       [0.8, 0. , 0. , 0. , 0. , 0. , 0. , 0. , 0. , 0. , 0.2],\n",
            "       [0.7, 0. , 0. , 0. , 0. , 0. , 0. , 0. , 0. , 0. , 0.3],\n",
            "       [0.6, 0. , 0. , 0. , 0. , 0. , 0. , 0. , 0. , 0. , 0.4],\n",
            "       [0.5, 0. , 0. , 0. , 0. , 0. , 0. , 0. , 0. , 0. , 0.5],\n",
            "       [0.4, 0. , 0. , 0. , 0. , 0. , 0. , 0. , 0. , 0. , 0.6],\n",
            "       [0.3, 0. , 0. , 0. , 0. , 0. , 0. , 0. , 0. , 0. , 0.7],\n",
            "       [0.2, 0. , 0. , 0. , 0. , 0. , 0. , 0. , 0. , 0. , 0.8],\n",
            "       [0.1, 0. , 0. , 0. , 0. , 0. , 0. , 0. , 0. , 0. , 0.9],\n",
            "       [0. , 0. , 0. , 0. , 0. , 0. , 0. , 0. , 0. , 0. , 1. ]])\n"
          ]
        }
      ]
    },
    {
      "cell_type": "markdown",
      "source": [
        "# How many steps - Power method"
      ],
      "metadata": {
        "id": "b-vigYLOlrDN"
      }
    },
    {
      "cell_type": "code",
      "source": [
        "x_init = 2\n",
        "p_init = np.zeros(n+1,dtype=float)\n",
        "p_init[x_init] = 1.0\n",
        "p_t = p_init\n",
        "\n",
        "big_t = 100\n",
        "E_visits = np.zeros(n+1,dtype=float)\n",
        "for t in range(big_t):\n",
        "  E_visits += p_t\n",
        "  p_t = p_t @ TransitionMatrix\n",
        "\n",
        "print(f\"{E_visits=}\")\n",
        "\n",
        "reward_v = np.ones(n+1)\n",
        "reward_v[0] = 0.0\n",
        "reward_v[-1] = 0.0\n",
        "\n",
        "E_steps = E_visits @ reward_v\n",
        "print(f\"{E_steps=}\")"
      ],
      "metadata": {
        "colab": {
          "base_uri": "https://localhost:8080/"
        },
        "id": "BQcQDKyElmdf",
        "outputId": "2cdfaaed-89b2-456f-ad89-372fe928b70a"
      },
      "execution_count": 52,
      "outputs": [
        {
          "output_type": "stream",
          "name": "stdout",
          "text": [
            "E_visits=array([70.4501,  1.5952,  3.1904,  2.7875,  2.3845,  1.9845,  1.5845,\n",
            "        1.1875,  0.7904,  0.3952, 13.6501])\n",
            "E_steps=15.899723201470946\n"
          ]
        }
      ]
    },
    {
      "cell_type": "markdown",
      "source": [
        "# How many steps - Equation method\n",
        "\n",
        "Must solve $\\vec{v} = \\text{Reward} + M\\vec{v}$ and $\\vec{v}_0 = 0$, $\\vec{v}_n = 0$. Make an augmented matrix to record these equations!"
      ],
      "metadata": {
        "id": "iHPsbRVVmvgp"
      }
    },
    {
      "cell_type": "code",
      "source": [
        "IminusM= np.eye(n+1)-TransitionMatrix\n",
        "\n",
        "eqn_v0_is_0 = np.zeros((1,n+1))\n",
        "eqn_v0_is_0[0,0] = 1.0\n",
        "\n",
        "eqn_vn_is_0 = np.zeros((1,n+1))\n",
        "eqn_vn_is_0[0,n] = 1.0\n",
        "\n",
        "augmented_matrix = np.concatenate((eqn_v0_is_0,eqn_vn_is_0,IminusM),axis=0)\n",
        "print(f\"{augmented_matrix=}\")\n",
        "\n",
        "target_vec = np.concatenate([np.array([0]),np.array([0]),reward_v],axis=0)\n",
        "print(f\"{target_vec=}\")\n",
        "\n",
        "\n",
        "value_vec = np.linalg.lstsq(augmented_matrix,target_vec,rcond=None)[0]\n",
        "print(f\"{value_vec=}\")\n"
      ],
      "metadata": {
        "colab": {
          "base_uri": "https://localhost:8080/"
        },
        "id": "fCGvIvoNnHyG",
        "outputId": "f25a70bd-c152-46e0-ce34-a88236b6f4a6"
      },
      "execution_count": 54,
      "outputs": [
        {
          "output_type": "stream",
          "name": "stdout",
          "text": [
            "augmented_matrix=array([[ 1. ,  0. ,  0. ,  0. ,  0. ,  0. ,  0. ,  0. ,  0. ,  0. ,  0. ],\n",
            "       [ 0. ,  0. ,  0. ,  0. ,  0. ,  0. ,  0. ,  0. ,  0. ,  0. ,  1. ],\n",
            "       [ 0. ,  0. ,  0. ,  0. ,  0. ,  0. ,  0. ,  0. ,  0. ,  0. ,  0. ],\n",
            "       [-0.5,  1. , -0.5,  0. ,  0. ,  0. ,  0. ,  0. ,  0. ,  0. ,  0. ],\n",
            "       [ 0. , -0.5,  1. , -0.5,  0. ,  0. ,  0. ,  0. ,  0. ,  0. ,  0. ],\n",
            "       [ 0. ,  0. , -0.5,  1. , -0.5,  0. ,  0. ,  0. ,  0. ,  0. ,  0. ],\n",
            "       [ 0. ,  0. ,  0. , -0.5,  1. , -0.5,  0. ,  0. ,  0. ,  0. ,  0. ],\n",
            "       [ 0. ,  0. ,  0. ,  0. , -0.5,  1. , -0.5,  0. ,  0. ,  0. ,  0. ],\n",
            "       [ 0. ,  0. ,  0. ,  0. ,  0. , -0.5,  1. , -0.5,  0. ,  0. ,  0. ],\n",
            "       [ 0. ,  0. ,  0. ,  0. ,  0. ,  0. , -0.5,  1. , -0.5,  0. ,  0. ],\n",
            "       [ 0. ,  0. ,  0. ,  0. ,  0. ,  0. ,  0. , -0.5,  1. , -0.5,  0. ],\n",
            "       [ 0. ,  0. ,  0. ,  0. ,  0. ,  0. ,  0. ,  0. , -0.5,  1. , -0.5],\n",
            "       [ 0. ,  0. ,  0. ,  0. ,  0. ,  0. ,  0. ,  0. ,  0. ,  0. ,  0. ]])\n",
            "target_vec=array([0., 0., 0., 1., 1., 1., 1., 1., 1., 1., 1., 1., 0.])\n",
            "value_vec=array([ 0.,  9., 16., 21., 24., 25., 24., 21., 16.,  9., -0.])\n"
          ]
        }
      ]
    }
  ]
}