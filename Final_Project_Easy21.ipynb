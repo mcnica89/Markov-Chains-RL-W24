{
  "nbformat": 4,
  "nbformat_minor": 0,
  "metadata": {
    "colab": {
      "provenance": [],
      "authorship_tag": "ABX9TyMoEUnPSORB3hbfdByntynC",
      "include_colab_link": true
    },
    "kernelspec": {
      "name": "python3",
      "display_name": "Python 3"
    },
    "language_info": {
      "name": "python"
    }
  },
  "cells": [
    {
      "cell_type": "markdown",
      "metadata": {
        "id": "view-in-github",
        "colab_type": "text"
      },
      "source": [
        "<a href=\"https://colab.research.google.com/github/mcnica89/Markov-Chains-RL-W24/blob/main/Final_Project_Easy21.ipynb\" target=\"_parent\"><img src=\"https://colab.research.google.com/assets/colab-badge.svg\" alt=\"Open In Colab\"/></a>"
      ]
    },
    {
      "cell_type": "code",
      "execution_count": 1,
      "metadata": {
        "id": "Ehrt4uCIOauA"
      },
      "outputs": [],
      "source": [
        "import numpy as np"
      ]
    },
    {
      "cell_type": "markdown",
      "source": [
        "# Your Player Functions\n",
        "These are the three functions you will submit. How you want to \"train\" them is up to you. See the Labs for examples of how these work or examples of what you can do with them."
      ],
      "metadata": {
        "id": "ZBq8S0_6OhyF"
      }
    },
    {
      "cell_type": "code",
      "source": [
        "def playerCardCounterUpdate( card_counting_signal_input : float, num_cards_left_in_shoe : int, observed_card : int) -> float:\n",
        "  # updates the card Counting signal based on:\n",
        "  #  card_counting_signal_input : the previous card counting signal (which is a float)\n",
        "  #  observed_card : the card that was dealt out that we just observed\n",
        "  #  num_cards_left_in_shoe : how many cards are currently left in the deck\n",
        "\n",
        "  #if the current card_counting_signal is None, then we are just starting a new episode and must initialize it to some value\n",
        "  if card_counting_signal_input == None:\n",
        "    playerCardCounterInitialValue = 0.0\n",
        "    return playerCardCounterInitialValue\n",
        "\n",
        "  output_card_counting_signal = 0.0\n",
        "  return output_card_counting_signal\n",
        "\n",
        "def playerBetSizeChoice(card_counting_signal_input:float, num_cards_left_in_shoe : int, current_bankroll:int) -> int:\n",
        "  # How much the player wants to bet\n",
        "  # Is allowed to depend on the card counting signal, the number of cards left in the deck, and the plyaers current bankroll\n",
        "  # The actual bet must obey the following rules (which are enfored by the simulation):\n",
        "  # - bet_size is an integer which is >= 0 (betting 0 is allowed)\n",
        "  # - bet_size is <= 100,000 (this is the table maximum bet allowed!)\n",
        "  # - bet_size is <= current_bankroll (you cannot bet more than you have)\n",
        "  bet_size = 1\n",
        "  return bet_size\n",
        "\n",
        "\n",
        "def playerStrategy(player_sum, dealer_sum,card_counting_signal) -> bool:\n",
        "  # Whether to hit or stick given the player sum, dealer sum and card counting signal (True/1 = Hit, False/0 = Stick)\n",
        "  #\n",
        "  #Lab2Actions = np.array(\n",
        "  #    [[0, 0, 0, 0, 0, 0, 0, 0, 0, 0, 0, 0, 0, 0, 0, 0, 0, 0, 0, 0, 0, 0],\n",
        "  #     [0, 0, 0, 0, 0, 0, 0, 0, 0, 0, 1, 1, 1, 0, 0, 0, 0, 0, 0, 0, 0, 0],\n",
        "  #     [0, 0, 0, 0, 0, 0, 0, 0, 0, 0, 1, 1, 1, 0, 0, 0, 0, 0, 0, 0, 0, 0],\n",
        "  #     [0, 0, 0, 0, 0, 0, 0, 0, 0, 0, 1, 1, 1, 0, 0, 0, 0, 0, 0, 0, 0, 0],\n",
        "  #     [0, 0, 0, 0, 0, 0, 0, 0, 0, 1, 1, 1, 1, 1, 0, 0, 0, 0, 0, 0, 0, 0],\n",
        "  #     [0, 0, 0, 0, 0, 0, 0, 0, 0, 1, 1, 1, 1, 1, 0, 0, 0, 0, 0, 0, 0, 0],\n",
        "  #     [0, 0, 0, 0, 0, 0, 0, 0, 0, 1, 1, 1, 1, 1, 0, 0, 0, 0, 0, 0, 0, 0],\n",
        "  #     [0, 0, 0, 0, 0, 0, 0, 0, 0, 1, 1, 1, 1, 1, 1, 0, 0, 0, 0, 0, 0, 0],\n",
        "  #     [0, 0, 0, 0, 0, 0, 0, 0, 1, 1, 1, 1, 1, 1, 1, 1, 0, 0, 0, 0, 0, 0],\n",
        "  #     [0, 0, 0, 0, 0, 0, 0, 0, 1, 1, 1, 1, 1, 1, 1, 1, 1, 0, 0, 0, 0, 0],\n",
        "  #     [0, 0, 0, 0, 0, 0, 0, 1, 1, 1, 1, 1, 1, 1, 1, 1, 1, 0, 0, 0, 0, 0],\n",
        "  #     [0, 0, 0, 0, 0, 0, 1, 1, 1, 1, 1, 1, 1, 1, 1, 1, 1, 0, 0, 0, 0, 0],\n",
        "  #     [0, 0, 0, 0, 0, 0, 0, 1, 1, 1, 1, 1, 1, 1, 1, 1, 1, 0, 0, 0, 0, 0],\n",
        "  #     [0, 0, 0, 0, 0, 0, 0, 0, 1, 1, 1, 1, 1, 1, 1, 1, 1, 0, 0, 0, 0, 0],\n",
        "  #     [0, 0, 0, 0, 0, 0, 0, 0, 1, 1, 1, 1, 1, 1, 1, 1, 0, 0, 0, 0, 0, 0],\n",
        "  #     [0, 0, 0, 0, 0, 0, 0, 0, 0, 1, 1, 1, 1, 1, 1, 0, 0, 0, 0, 0, 0, 0],\n",
        "  #     [0, 0, 0, 0, 0, 0, 0, 0, 0, 1, 1, 1, 1, 1, 1, 0, 0, 0, 0, 0, 0, 0],\n",
        "  #     [0, 1, 1, 1, 1, 1, 1, 1, 1, 1, 1, 1, 1, 1, 1, 1, 1, 0, 0, 0, 0, 0],\n",
        "  #     [0, 1, 1, 1, 1, 1, 1, 1, 1, 1, 1, 1, 1, 1, 1, 1, 1, 1, 0, 0, 0, 0],\n",
        "  #     [0, 1, 1, 1, 1, 1, 1, 1, 1, 1, 1, 1, 1, 1, 1, 1, 1, 1, 1, 0, 0, 0],\n",
        "  #     [0, 1, 1, 1, 1, 1, 1, 1, 1, 1, 1, 1, 1, 1, 1, 1, 1, 1, 1, 1, 0, 0],\n",
        "  #     [0, 1, 1, 1, 1, 1, 1, 1, 1, 1, 1, 1, 1, 1, 1, 1, 1, 1, 1, 1, 1, 0]])\n",
        "\n",
        "  AlwaysHitAction = np.ones((22,22))\n",
        "  AlwaysStayAction = np.zeros((22,22))\n",
        "  actions = AlwaysStayAction\n",
        "  return actions[dealer_sum,player_sum]"
      ],
      "metadata": {
        "id": "nxzXp2cjOuqr"
      },
      "execution_count": 2,
      "outputs": []
    },
    {
      "cell_type": "markdown",
      "source": [
        "# Simulation (this is what the leaderboard runs!)\n",
        "\n"
      ],
      "metadata": {
        "id": "twMngcpGQ5XZ"
      }
    },
    {
      "cell_type": "code",
      "source": [
        "def simulateEasy21_finite_deck(playerStrategy, playerBetSizeChoice, playerCardCounterUpdate, Verbose = False) -> int:\n",
        "  # simulates one run through of a shoe of easy 21 using the player and delaer strategy\n",
        "  # the game is counted as over when there are <MIN_ONE_DECKS_LEFT_TO_END_GAME worth of cards left in the shoe\n",
        "\n",
        "  ####GAME PARAMETERS#####\n",
        "  # These parameters set up the \"rules\" of the game\n",
        "  # They are constant\n",
        "  NUM_ONE_DECKS_IN_SHOE = 10 #number of Easy21 decks in the shoe at the start of the game\n",
        "  MIN_ONE_DECKS_LEFT_TO_END_GAME = 1 #when the shoe is below this amount, the next hand is not dealt\n",
        "  PLAYER_STARTING_BANKROLL = 100 #staring bankroll for hte player\n",
        "  TABLE_MAXIMUM_BET_SIZE = 100_000 #maximum bet size for any single bet\n",
        "  #####################\n",
        "\n",
        "  CARDS_1_TO_10 = np.arange(1,10+1)\n",
        "  ONE_DECK = np.concatenate( (CARDS_1_TO_10, CARDS_1_TO_10, -CARDS_1_TO_10) ) #the ONE_DECK is 30 cards, 1-10 twice and -1 to 10 once\n",
        "\n",
        "  shoe = np.tile( ONE_DECK, NUM_ONE_DECKS_IN_SHOE) #the shoe is the full stack of cards used in the game\n",
        "  np.random.shuffle(shoe) #shuffle the ONE_DECK!\n",
        "\n",
        "  top_of_shoe_ix = 0 #index for how far we are in the shoe\n",
        "  num_cards_left_in_shoe = len(shoe) - top_of_shoe_ix #number of cards remaining in the shoe\n",
        "\n",
        "  player_bankroll = PLAYER_STARTING_BANKROLL   #your starting bankroll initizled to the start value\n",
        "  player_savings_account = 0 #starting savings account amount\n",
        "  player_cardcount_signal = float(playerCardCounterUpdate(None,None,None)) #get the starting cardcount signal by feeding \"None\" into the updater\n",
        "\n",
        "  #### PLAY ANOTHER HAND LOOP\n",
        "  # while we still have at least MIN_ONE_DECKS_LEFT_TO_END_GAME left in the shoe, the game continues\n",
        "  # (and the player has a non-zero bankroll!)\n",
        "  while len(shoe) - top_of_shoe_ix > MIN_ONE_DECKS_LEFT_TO_END_GAME*len(ONE_DECK) and player_bankroll > 0:\n",
        "\n",
        "    ### PLAYER CHOOSES BETSIZE ####\n",
        "    bet_size = playerBetSizeChoice(player_cardcount_signal, num_cards_left_in_shoe, player_bankroll) #choose the betsize!\n",
        "    bet_size = int(  np.clip( bet_size , a_min = 0, a_max = min(player_bankroll,TABLE_MAXIMUM_BET_SIZE) ) ) #ensure the playerbet size follows the rules, integer >=0, and cannot exceed player bankroll or maximum bet size.\n",
        "\n",
        "    #print out whats going on if requested\n",
        "    if Verbose:\n",
        "      print(f\"{player_bankroll=}, {bet_size=}\")\n",
        "\n",
        "    ### DEAL INITIAL CARDS TO DEALER AND PLAYER ###\n",
        "\n",
        "    #deal the next card to the player\n",
        "    nextCard = shoe[top_of_shoe_ix]\n",
        "    top_of_shoe_ix += 1\n",
        "    num_cards_left_in_shoe = len(shoe) - top_of_shoe_ix\n",
        "\n",
        "    #feed in the card to the cardcounter function\n",
        "    player_cardcount_signal = float(playerCardCounterUpdate(player_cardcount_signal,num_cards_left_in_shoe,nextCard))\n",
        "\n",
        "    #for the 1st card only, we take the absolute value (since we always start at a positive value)\n",
        "    player_sum = abs(nextCard) #absolute value is taken for the starting card\n",
        "\n",
        "    #deal the next card to the dealer and also let the player card counter see the next card\n",
        "    nextCard = shoe[top_of_shoe_ix]\n",
        "    top_of_shoe_ix += 1\n",
        "    num_cards_left_in_shoe = len(shoe) - top_of_shoe_ix\n",
        "    player_cardcount_signal = float( playerCardCounterUpdate(player_cardcount_signal,num_cards_left_in_shoe,nextCard))\n",
        "    dealer_sum = abs(nextCard) #absolute value is taken for the dealer starting card\n",
        "\n",
        "    if Verbose:\n",
        "      print(\"==================\")\n",
        "      print(f\"Player Starting Sum: {player_sum}\")\n",
        "      print(f\"Dealer Starting Sum: {dealer_sum}\")\n",
        "\n",
        "    ### PLAYERS TURN ###\n",
        "    if Verbose:\n",
        "        print(\"--Player's Turn\")\n",
        "\n",
        "    player_is_active = playerStrategy(player_sum,dealer_sum,player_cardcount_signal) #Boolean flag for the Player still playing. True iff player wants to \"hit\" and keep going.\n",
        "    player_is_active = player_is_active and ( top_of_shoe_ix < len(shoe) ) #Check and make sure there are still cards left in the shoe! Everything is automatically over if we are out of cards.\n",
        "    player_is_busted = False #Boolean flag for the player being busted.\n",
        "\n",
        "\n",
        "\n",
        "    while player_is_active: #while player wants to keep going\n",
        "      #deal the next card and also let the player card counter see the next card\n",
        "      nextCard = shoe[top_of_shoe_ix]\n",
        "      top_of_shoe_ix += 1\n",
        "      num_cards_left_in_shoe = len(shoe) - top_of_shoe_ix\n",
        "      player_cardcount_signal = float(playerCardCounterUpdate(player_cardcount_signal,num_cards_left_in_shoe,nextCard))\n",
        "      player_sum += nextCard\n",
        "\n",
        "      if Verbose:\n",
        "        print(f\"{player_cardcount_signal=}\")\n",
        "\n",
        "      #check status for bustedness and what to do next\n",
        "      player_is_busted = ( player_sum < 1 or player_sum > 21 ) #flag for busted\n",
        "      player_is_active = ( not player_is_busted ) and playerStrategy(player_sum,dealer_sum,player_cardcount_signal) #check if player is still active\n",
        "      player_is_active = player_is_active and ( top_of_shoe_ix < len(shoe) ) #if we are at out of cards in the shoe everything is automatically over!\n",
        "\n",
        "      if Verbose:\n",
        "        print(f\"{player_sum = }, {player_is_busted=}, {player_is_active=}\")\n",
        "\n",
        "    ### DEALER'S TURN ###\n",
        "    if Verbose:\n",
        "        print(\"--Dealer's Turn\")\n",
        "\n",
        "    #The dealer will always hit if <=17 and player is not busted\n",
        "    dealer_is_active = (not player_is_busted) #flag for the Dealer still playing. Note that if player busted, the dealer will just skip their turn.\n",
        "    dealer_is_active = dealer_is_active and ( top_of_shoe_ix < len(shoe) ) #if we are out of cards everything is automatically over\n",
        "    dealer_is_busted = False\n",
        "\n",
        "    while dealer_is_active:\n",
        "      #deal card to dealer\n",
        "      nextCard = shoe[top_of_shoe_ix]\n",
        "      top_of_shoe_ix += 1\n",
        "      num_cards_left_in_shoe = len(shoe) - top_of_shoe_ix\n",
        "      player_cardcount_signal = float(playerCardCounterUpdate(player_cardcount_signal,num_cards_left_in_shoe,nextCard))\n",
        "      dealer_sum += nextCard\n",
        "\n",
        "      #check for what to do\n",
        "      dealer_is_busted = (dealer_sum < 1) or (dealer_sum > 21) #check if dealer busted\n",
        "      dealer_is_active = (not dealer_is_busted) and ( dealer_sum <= 16 )#check if dealer chooses to hit and keep playing\n",
        "      dealer_is_active = dealer_is_active and ( top_of_shoe_ix < len(shoe) ) #if we are out of cards everything is automatically over\n",
        "\n",
        "      if Verbose:\n",
        "        print(f\"{dealer_sum = }, {dealer_is_busted=}, {dealer_is_active=}\")\n",
        "\n",
        "    player_wins = dealer_is_busted or ( (not player_is_busted) and player_sum > dealer_sum ) #Boolean variable if player wins!\n",
        "    dealer_wins = player_is_busted or ( (not dealer_is_busted) and player_sum < dealer_sum ) #Boolean variable if dealer wins!\n",
        "    if Verbose:\n",
        "      print(f\"{player_wins=}, {dealer_wins=}\")\n",
        "\n",
        "    player_bankroll += int( bet_size*player_wins - bet_size*dealer_wins ) #give player the money for winning or losing!\n",
        "\n",
        "    #if you are over the table maximum move the excess to the savings account\n",
        "    if player_bankroll >= TABLE_MAXIMUM_BET_SIZE:\n",
        "      player_savings_account += (player_bankroll - TABLE_MAXIMUM_BET_SIZE)\n",
        "      player_bankroll = TABLE_MAXIMUM_BET_SIZE\n",
        "\n",
        "  #return the amount at the table plus in the savings account\n",
        "  return int( player_bankroll + player_savings_account )"
      ],
      "metadata": {
        "id": "9IGv8Xh3RhFl"
      },
      "execution_count": 3,
      "outputs": []
    },
    {
      "cell_type": "code",
      "source": [
        "#Run 1000 episodes and display the total (this is what the leaderboard does)\n",
        "total = 0\n",
        "num_plays = 1000\n",
        "for iter in range(num_plays):\n",
        "  total += simulateEasy21_finite_deck(playerStrategy,playerBetSizeChoice,playerCardCounterUpdate)\n",
        "print(total)"
      ],
      "metadata": {
        "colab": {
          "base_uri": "https://localhost:8080/"
        },
        "id": "GKnM2Fp3Rrh_",
        "outputId": "bcd94593-4889-4cbc-ea0f-2c6dfaa8e7b6"
      },
      "execution_count": 4,
      "outputs": [
        {
          "output_type": "stream",
          "name": "stdout",
          "text": [
            "102010\n"
          ]
        }
      ]
    }
  ]
}