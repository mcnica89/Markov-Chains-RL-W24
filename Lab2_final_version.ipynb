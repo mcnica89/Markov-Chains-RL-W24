{
  "nbformat": 4,
  "nbformat_minor": 0,
  "metadata": {
    "colab": {
      "provenance": [],
      "authorship_tag": "ABX9TyO9bxrs80ubkYGZ5U6yeVzO",
      "include_colab_link": true
    },
    "kernelspec": {
      "name": "python3",
      "display_name": "Python 3"
    },
    "language_info": {
      "name": "python"
    }
  },
  "cells": [
    {
      "cell_type": "markdown",
      "metadata": {
        "id": "view-in-github",
        "colab_type": "text"
      },
      "source": [
        "<a href=\"https://colab.research.google.com/github/mcnica89/Markov-Chains-RL-W24/blob/main/Lab2_final_version.ipynb\" target=\"_parent\"><img src=\"https://colab.research.google.com/assets/colab-badge.svg\" alt=\"Open In Colab\"/></a>"
      ]
    },
    {
      "cell_type": "code",
      "execution_count": null,
      "metadata": {
        "id": "HYwsT8T3HIE1"
      },
      "outputs": [],
      "source": [
        "import numpy as np"
      ]
    },
    {
      "cell_type": "markdown",
      "source": [
        "# Problem 1: Optimal Strategy in Easy 21\n",
        "\n",
        "You have seen the rules for playing one round of Easy21 in Lab 1. In a Casino, you play Easy21 against a dealer according to the following sequence of rules:\n",
        "\n",
        "1. The dealer and the player are both dealt a single starting card from the deck. (Remember only the positive value is used: you do not start at a negative number). The dealer's card is visible to the player.\n",
        "2. The player goes first and chooses to hit or stick until they either go bust or choose to stick at some point.\n",
        "  - If they go bust the player immediatly loses. (Player reward -1)\n",
        "3. If the player has not gone bust, and chooses to stick, then the dealer takes their turn. The dealer always follows the \"hit-below-17\" policy; they stick on any sum of 17 or greater and hit on 16 and below.\n",
        "  - If the dealer goes bust at this point, the player immediatly wins (Player reward +1)\n",
        "4. If the dealer has not gone bust, then the dealer's total is compared to the player's total.\n",
        "   - If the players total is higher, then the player wins the bet (Player reward +1)\n",
        "   - If the dealers total is higher, then the dealer wins the bet (Player reward -1)\n",
        "   - If they are tied, then it is a draw and the bet is a push. (Player reward 0)"
      ],
      "metadata": {
        "id": "_JTt06kGHI5N"
      }
    },
    {
      "cell_type": "markdown",
      "source": [
        "# Q1 Explain - Markov Decision Process explanation\n",
        "\n",
        "Clearly explain the Markov Decision Proces you are using to models the problem in Q1. Be sure to specifically say what the states are, the transition probabilities and the rewards and terminal state prizes."
      ],
      "metadata": {
        "id": "JzUyH649It2l"
      }
    },
    {
      "cell_type": "markdown",
      "source": [
        "## Q1a) Dealer's Turn\n",
        "\n",
        "In Rules 3 and 4, the player has finished their turn and the dealer takes some predefined actions. The Player's reward will come out as either -1,0 or +1. Calculate the value to the player for this \"second half\" of the game. (Note: Because the dealer follows a fixed policy, there are no actions to be decided on here!) Your answer should be correct to an accuracy of 0.0001.\n",
        "\n",
        "Inputs and outputs for Q1a:\n",
        "- Input:\n",
        "   - ```deck``` = list of int\n",
        "     - The deck of cards used for all rounds of the game.\n",
        "     - This deck will be drawn from WITH replacement. (i.e. its more like a dice roll than a deck)\n",
        "     - The classic version of Easy21 is the deck:\n",
        "   ```deck = [-1,-2,-3,-4,-5,-6,-7,-8,-9,-10,1,2,3,4,5,6,7,8,9,10,1,2,3,4,5,6,7,8,9,10]```\n",
        "- Output:\n",
        "   - ``` answer  = value ```\n",
        "   - ```value``` = shape (22,22) array of float\n",
        "     - ``` value[dealer_x,player_x]``` is the expected value to the player when the dealer shows ```dealer_x``` and the player total is ```player_x``` at the start of Rule 3 where its the Dealer's turn.\n",
        "     - The situation ```player_x=0``` means the player has busted (i.e. dealer automatically wins here)\n",
        "     - Note that in the classic version of Easy21, the dealer card is always in the range ```dealer_x ``` from ```[1,2,...,10]```, but this asks you to compute all possible values from 0 to 21."
      ],
      "metadata": {
        "id": "f1hDA97GNw3U"
      }
    },
    {
      "cell_type": "code",
      "source": [
        "def Easy_21_Dealers_Turn_Value(deck):\n",
        "  # See text for information about inputs/outputs\n",
        "  value = np.zeros((22,22))\n",
        "  #\n",
        "  # Your code here!\n",
        "  #\n",
        "  answer = value\n",
        "  return answer"
      ],
      "metadata": {
        "id": "NBGEi5G-N0IW"
      },
      "execution_count": null,
      "outputs": []
    },
    {
      "cell_type": "markdown",
      "source": [
        "## Q1b) Player's Optimal Strategy\n",
        "\n",
        "Use value iteration to calculate the optimal action (either hit or stick) and expected value to the player for each possible state the player total/dealer total might be in. The result of Q1a will be provided to your program as an input. Your answer should be correct to an accuracy of 0.0001.\n",
        "\n",
        "Inputs/outputs for Q1b.\n",
        "\n",
        "- Input:\n",
        "  - ```deck``` = list of int\n",
        "    - The deck of cards used for all rounds of the game.\n",
        "    - This deck will be drawn from WITH replacement. (i.e. its more like a dice roll than a deck)\n",
        "    - The classic version of Easy21 is the deck:\n",
        "     ```deck = [-1,-2,-3,-4,-5,-6,-7,-8,-9,-10,1,2,3,4,5,6,7,8,9,10,1,2,3,4,5,6,7,8,9,10]```\n",
        "  - ```dealer_value``` = shape (22,22) array of float\n",
        "    -  This is the correct output from Q1a)\n",
        "- Output:\n",
        "  - ```answer = value, action```\n",
        "  - ```value``` = (22,22) array of float\n",
        "     -  ```value[dealer_x,my_x]``` is the expected value to the player when the dealer shows ```dealer_x``` and the player total is ```player_x``` when its the Players turn to Play as in Rule 2.\n",
        "     - The situation ```player_x=0``` means the player has busted (i.e. delaer automatically wins here)         \n",
        "     - Note that in the classic version of Easy21, the dealer card is always in the range dealer_x ```[1,2,...,10]```, but this asks you to compute all possible dealer values.\n",
        "  - ```action_hit``` = (11,22) array of boolean\n",
        "    -   ```action_hit[dealer_x, player_x] = True``` wherever the optimal action is to hit and False if the optimal action is to stick."
      ],
      "metadata": {
        "id": "fizoYLAlO0hO"
      }
    },
    {
      "cell_type": "code",
      "source": [
        "def Easy_21_Strategy(deck, dealer_value)\n",
        "  # See notebook for details on input/output\n",
        "  value = np.zeros((22,22))\n",
        "  action = np.zeros((22,22),dtype=int)\n",
        "  #\n",
        "  # Your code here\n",
        "  #\n",
        "  answer = value, action\n",
        "  return answer"
      ],
      "metadata": {
        "id": "ygYIqESGHRfP"
      },
      "execution_count": null,
      "outputs": []
    },
    {
      "cell_type": "markdown",
      "source": [
        "# Problem 2: Optimal Gambler Strategy in a Fixed Number of Rounds\n",
        "\n",
        "Recall the gambler's problem from Lab 1 where the gambler would keep placing bets until they hit a bankroll of $x=0$ or some target $x=n$ where the win probability for each even-odds bet was $p_{win}$.\n",
        "\n",
        "In this problem, instead of betting until something happens, the gambler will bet for a fixed number of rounds $t_{max}$. On each round they must bet at least $\\$ 1$, and can bet any amount up to and including their entire bankroll. (Exception: if they ever get to a bankroll of $x=\\$0$ they are broke and they stay broke for all rounds.)\n",
        "\n",
        "Your job is to find the optimal betsize that maximizes the expected Gambler's total money for any given bankroll size $x$ and any number of rounds left $t$. *Example*: When $t=0$, there are no bets left and the value is simply however many dollars you have on the table ```v[0,x]=x``` for every $x$.\n",
        "\n",
        "To make the problem fit onto a finite computer a bankroll maximum $n_{max}$ is imposed and the player's bankroll will always be $0\\leq x \\leq n_{max}$. Anytime a bet would cause the player to exceed this maximum, the excess is immediatly transfered to a savings account for the player. The player can never gamble with funds from the savings account, but is rewarded for these saving account dollars as regular dollars. *Example:* If $p_{win}=100\\%$, then the optimal strategy is to always bet the maximum amount. When the table maximum is $n_{max} = 7$, then the value of $t=2$ and $x=\\$5$ is ```v[2,5]=17``` because their  bets will proceed as follows:\n",
        "- Bet $\\$5$, win the bet (100\\% chance), go to a bankroll of $x=\\$7$ (the table maximum) and $\\$3$ transfered to savings account.\n",
        "- Bet $\\$7$, win the bet (100\\% chance), go to a bankroll of $x=\\$7$ (the table maximum) and $\\$7$ transfered to savings. (Total savings now $\\$10$)\n",
        "- Total rewards after all betting is done: $\\$17$ (which comes from $\\$7$ in bankroll on the table and $\\$10$ rewarded to savings account during play)\n",
        "\n",
        "Your answer should be correct to an accuracy of 0.0001.\n",
        "\n",
        "Inputs and Outputs:\n",
        "\n",
        "- Input:\n",
        "  - ```p_win``` = float in [0,1] the probability the gambler wins the bet\n",
        "    -         Note that the bet always pays out at 1:1 odds.\n",
        "  - ```t_max``` = positive int\n",
        "    -     maximum number of rounds of betting allowed\n",
        "  - ```n_max``` = table maximum is the largest bankroll the player can have at the table\n",
        "    - See rules about the table maximum and savings account.\n",
        "- Output:\n",
        "  - ```answer = value, action_bet_size```\n",
        "  - ```value``` = shape (t_max+1, n_max+1) array of float\n",
        "    -         ```value[t,x]``` = The expected value to the player when there are t betting rounds remaining and they have x dollars at the table.\n",
        "    -         e.g. ```value[0,x] = x``` for every x because there are no more bets!\n",
        "  - ```action_bet_size``` = shape (t_max+1,n_max+1) array of positive int\n",
        "  -    Note that the bet size should be >= 1 unless the gambler is broke.\n",
        "  -        ```action_bet_size[t,x]``` = the optimal bet size when there are t rounds remaining and the players bankroll is ```x```"
      ],
      "metadata": {
        "id": "ZnkiV8QPJLv8"
      }
    },
    {
      "cell_type": "markdown",
      "source": [
        "## Q2 Explain - Markov Decision Process explanation\n",
        "\n",
        "Clearly explain the Markov Decision Proces you are using to models the problem in Q2. Be sure to specifically say what the states are, the transition probabilities and the rewards and terminal state prizes."
      ],
      "metadata": {
        "id": "_gkq2lIRJG5q"
      }
    },
    {
      "cell_type": "markdown",
      "source": [
        "#Q2 Solve for the Value Function"
      ],
      "metadata": {
        "id": "e_zz32nAJLy0"
      }
    },
    {
      "cell_type": "code",
      "source": [
        "def Gambler_Strategy(p_win, t_max, n_max):\n",
        "  # See notebook for details about inputs/outputs\n",
        "  value = np.zeros((t_max+1,n_max+1),dtype=float)\n",
        "  action_bet_size = np.ones((t_max+1,n_max+1),dtype=int)\n",
        "  #\n",
        "  # Your code here!\n",
        "  #\n",
        "  answer = value, action_bet_size\n",
        "  return answer"
      ],
      "metadata": {
        "id": "gDNfIHG1JSAS"
      },
      "execution_count": null,
      "outputs": []
    }
  ]
}