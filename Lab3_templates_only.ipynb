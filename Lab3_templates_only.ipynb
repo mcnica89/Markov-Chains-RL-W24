{
  "nbformat": 4,
  "nbformat_minor": 0,
  "metadata": {
    "colab": {
      "provenance": [],
      "authorship_tag": "ABX9TyOH4+hQUCElK9yT9+0iFI0F",
      "include_colab_link": true
    },
    "kernelspec": {
      "name": "python3",
      "display_name": "Python 3"
    },
    "language_info": {
      "name": "python"
    }
  },
  "cells": [
    {
      "cell_type": "markdown",
      "metadata": {
        "id": "view-in-github",
        "colab_type": "text"
      },
      "source": [
        "<a href=\"https://colab.research.google.com/github/mcnica89/Markov-Chains-RL-W24/blob/main/Lab3_templates_only.ipynb\" target=\"_parent\"><img src=\"https://colab.research.google.com/assets/colab-badge.svg\" alt=\"Open In Colab\"/></a>"
      ]
    },
    {
      "cell_type": "code",
      "source": [
        "import numpy as np"
      ],
      "metadata": {
        "id": "J6NxnGG_30uw"
      },
      "execution_count": 6,
      "outputs": []
    },
    {
      "cell_type": "markdown",
      "source": [
        "## Submission Files Q1"
      ],
      "metadata": {
        "id": "NSRt1zhGKdcX"
      }
    },
    {
      "cell_type": "code",
      "source": [
        "#### STUFF TO SUBMIT Q1a ###\n",
        "def estimate_value_function(t_max,n_max,p_max, policy):\n",
        "  #Inputs:\n",
        "  # t_max = maximum number of rounds\n",
        "  # n_max = maximum bankroll size (beyond which savings account kicks in)\n",
        "  # p_max = the denominator of the probabilities\n",
        "  # policy = the (fixed) policy being executed\n",
        "\n",
        "  value_function_answer = np.zeros((t_max+1,n_max+1))\n",
        "  #the value function of being at time t and bankroll size x\n",
        "\n",
        "  #\n",
        "  # Your code here (will involve running many simulations and doing MC or TD learning)\n",
        "  #\n",
        "\n",
        "  return  value_function_answer\n",
        "\n",
        "#Record the best output you found of your function\n",
        "#set t_max = 20\n",
        "#set n_max = 100\n",
        "#set p_max = 10\n",
        "#set policy = bet_1_policy\n",
        "\n",
        "\n",
        "def my_best_guess_bet_1_value():\n",
        "  ans = np.zeros((20+1,100+1)) #copy/paste in your output as a fixed array for this problem.\n",
        "  return ans"
      ],
      "metadata": {
        "id": "DmiedFsVKLo6"
      },
      "execution_count": 7,
      "outputs": []
    },
    {
      "cell_type": "code",
      "source": [
        "#### STUFF TO SUBMIT Q1b ###\n",
        "def learn_policy(t_max,n_max,p_max, policy):\n",
        "  #Inputs:\n",
        "  # t_max = maximum number of rounds\n",
        "  # n_max = maximum bankroll size (beyond which savings account kicks in)\n",
        "  # policy = the (fixed) policy being executed\n",
        "\n",
        "  policy_array = np.zeros((t_max+1,n_max+1,p_max+1))\n",
        "  #policy_array[t,x,p] is:\n",
        "  #the amount to bet function of being at time t and bankroll size x when probability is p/p_max\n",
        "\n",
        "  #\n",
        "  # Your code here (will involve running many simulations and doing MC or TD learning)\n",
        "  #\n",
        "\n",
        "  return  policy_array\n",
        "\n",
        "#Record the best output you found of your function\n",
        "#set t_max = 20\n",
        "#set n_max = 100\n",
        "#set p_max = 10\n",
        "\n",
        "def my_best_policy(t,x,p,t_max=20,n_max=100,p_max=10):\n",
        "  # once you have learned your best policy, hardcode in your final answer here (it is ok to assume t_max=20, n_max=100 and p_max=10)\n",
        "  my_answer = np.zeros((20+1,100+1,10+1))\n",
        "  return my_answer[t,x,p]"
      ],
      "metadata": {
        "id": "czbOPpnhL1s5"
      },
      "execution_count": 8,
      "outputs": []
    },
    {
      "cell_type": "markdown",
      "source": [
        "## Submission Files Q2"
      ],
      "metadata": {
        "id": "Ji53VfKkNHsj"
      }
    },
    {
      "cell_type": "code",
      "source": [
        "### Stuff to submit in Q2a\n",
        "def average_shoe_value_CardCounterUpdate( card_counting_signal_input : float, num_cards_left_in_shoe : int, observed_card : int) -> float:\n",
        "  # updates the card Counting signal based on:\n",
        "  #  card_counting_signal_input : the previous card counting signal (which is a float)\n",
        "  #  observed_card : the card that was dealt out that we just observed\n",
        "  #  num_cards_left_in_shoe : how many cards are currently left in the deck\n",
        "\n",
        "  #if the current card_counting_signal is None, then we are just starting a new shoe and must initialize it to some value\n",
        "  if card_counting_signal_input == None:\n",
        "    playerCardCounterInitialValue = 0\n",
        "    return playerCardCounterInitialValue\n",
        "\n",
        "  output_card_counting_signal = 0.0\n",
        "  return output_card_counting_signal"
      ],
      "metadata": {
        "id": "x3324fGJNJ_3"
      },
      "execution_count": 9,
      "outputs": []
    },
    {
      "cell_type": "code",
      "source": [
        "### Stuff to submit in Q2b\n",
        "def learn_probability_to_win_hand(player_policy):\n",
        "\n",
        "  #player_policy is the policy being used by the player (e.g. Lab2 policy)\n",
        "\n",
        "  #using the method described, there are 201 possible average shoe values\n",
        "  # An average of -10.0 -> index 0\n",
        "  # An average of 0.0 -> index 100\n",
        "  # An average of 0.1 -> index 101\n",
        "  # an average of 10.0 -> index 200\n",
        "\n",
        "  probability_player_wins_hand = np.zeros(201)\n",
        "\n",
        "  #\n",
        "  # Your code here (will involve running many simulations and using TD/Monte Carlo to learn the probabilities)\n",
        "  #\n",
        "\n",
        "  return probability_player_wins_hand\n",
        "\n",
        "def my_best_probability():\n",
        "  ans = np.zeros(201)\n",
        "  return ans #copy/paste in the array of your best guess as to what the probability to win the hand is."
      ],
      "metadata": {
        "id": "jrMDMC-xNT_v"
      },
      "execution_count": 10,
      "outputs": []
    }
  ]
}