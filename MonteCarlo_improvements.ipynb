{
  "nbformat": 4,
  "nbformat_minor": 0,
  "metadata": {
    "colab": {
      "provenance": [],
      "authorship_tag": "ABX9TyOJbEtonQSraEoj5r2vo4aW",
      "include_colab_link": true
    },
    "kernelspec": {
      "name": "python3",
      "display_name": "Python 3"
    },
    "language_info": {
      "name": "python"
    }
  },
  "cells": [
    {
      "cell_type": "markdown",
      "metadata": {
        "id": "view-in-github",
        "colab_type": "text"
      },
      "source": [
        "<a href=\"https://colab.research.google.com/github/mcnica89/Markov-Chains-RL-W24/blob/main/MonteCarlo_improvements.ipynb\" target=\"_parent\"><img src=\"https://colab.research.google.com/assets/colab-badge.svg\" alt=\"Open In Colab\"/></a>"
      ]
    },
    {
      "cell_type": "code",
      "execution_count": 17,
      "metadata": {
        "id": "4418K5wX11Ts"
      },
      "outputs": [],
      "source": [
        "import numpy as np"
      ]
    },
    {
      "cell_type": "code",
      "source": [
        "def my_dice_roll():\n",
        "  return np.random.randint(1,6+1)"
      ],
      "metadata": {
        "id": "99uArZSI12QT"
      },
      "execution_count": 18,
      "outputs": []
    },
    {
      "cell_type": "markdown",
      "source": [
        "# Simplest Method"
      ],
      "metadata": {
        "id": "ZR_pb7D82woj"
      }
    },
    {
      "cell_type": "code",
      "source": [
        "#%%time\n",
        "total = 0\n",
        "N=10**6\n",
        "for i in range(N):\n",
        "  total += my_dice_roll()\n",
        "\n",
        "est_mean = total/N\n",
        "print(est_mean)"
      ],
      "metadata": {
        "colab": {
          "base_uri": "https://localhost:8080/"
        },
        "id": "9tVHTzvQ151_",
        "outputId": "e509d15c-d5d5-46e6-941d-cb207598c654"
      },
      "execution_count": 19,
      "outputs": [
        {
          "output_type": "stream",
          "name": "stdout",
          "text": [
            "3.498569\n"
          ]
        }
      ]
    },
    {
      "cell_type": "markdown",
      "source": [
        "# Major Erorr Analysis Improvement: Estimate the variance and use Central Limit Theorem\n"
      ],
      "metadata": {
        "id": "9_TgdxNC3oav"
      }
    },
    {
      "cell_type": "code",
      "source": [
        "total = 0\n",
        "total_sq = 0\n",
        "N=10**6\n",
        "for i in range(N):\n",
        "  x = my_dice_roll()\n",
        "  total += x\n",
        "  total_sq += x**2\n",
        "\n",
        "est_mean = total/N\n",
        "est_var = total_sq/N - (est_mean)**2  #(true answer: 3.5,35/12 ~= 2.9)\n",
        "\n",
        "\n",
        "print(f\"{est_mean=}\")\n",
        "print(f\"{est_var=}\")\n",
        "\n",
        "upper_est_2SD = est_mean + 2*np.sqrt(est_var/N)\n",
        "lower_est_2SD = est_mean - 2*np.sqrt(est_var/N)\n",
        "\n",
        "print(f\"{upper_est_2SD=}\")\n",
        "print(f\"{lower_est_2SD=}\")\n"
      ],
      "metadata": {
        "colab": {
          "base_uri": "https://localhost:8080/"
        },
        "id": "maWt2iht3wUG",
        "outputId": "f36805c3-4c24-42a6-d686-2d38db498f38"
      },
      "execution_count": 20,
      "outputs": [
        {
          "output_type": "stream",
          "name": "stdout",
          "text": [
            "est_mean=3.500308\n",
            "est_var=2.9195359051359997\n",
            "upper_est_2SD=3.5037253298963584\n",
            "lower_est_2SD=3.4968906701036415\n"
          ]
        }
      ]
    },
    {
      "cell_type": "markdown",
      "source": [
        "# Major Speed Improvement: Use vectors!"
      ],
      "metadata": {
        "id": "0C1HWd2J2yo3"
      }
    },
    {
      "cell_type": "code",
      "source": [
        "def my_vector_dice_roll(N_sample):\n",
        "  return np.random.randint(1,6+1,size=N_sample)"
      ],
      "metadata": {
        "id": "Ic83K_sr3ONa"
      },
      "execution_count": 21,
      "outputs": []
    },
    {
      "cell_type": "code",
      "source": [
        "#%%time\n",
        "N=10**6\n",
        "est_mean = np.mean(my_vector_dice_roll(N))\n",
        "print(est_mean)"
      ],
      "metadata": {
        "colab": {
          "base_uri": "https://localhost:8080/"
        },
        "id": "GpF_0YS_3XlP",
        "outputId": "55df267a-7550-491b-df97-0129e0d162eb"
      },
      "execution_count": 22,
      "outputs": [
        {
          "output_type": "stream",
          "name": "stdout",
          "text": [
            "3.501951\n"
          ]
        }
      ]
    },
    {
      "cell_type": "markdown",
      "source": [
        "# Vector Speed AND Errors\n"
      ],
      "metadata": {
        "id": "UZRuaQwS-dl3"
      }
    },
    {
      "cell_type": "code",
      "source": [
        "# same thing but as vectors\n",
        "N=10**6\n",
        "samples = my_vector_dice_roll(N)\n",
        "est_mean = np.mean(samples)\n",
        "est_var = np.var(samples)\n",
        "\n",
        "\n",
        "\n",
        "print(f\"{est_mean=}\")\n",
        "print(f\"{est_var=}\")\n",
        "\n",
        "upper_est_2SD = est_mean + 2*np.sqrt(est_var/N)\n",
        "lower_est_2SD = est_mean - 2*np.sqrt(est_var/N)\n",
        "\n",
        "print(f\"{upper_est_2SD=}\")\n",
        "print(f\"{lower_est_2SD=}\")\n"
      ],
      "metadata": {
        "colab": {
          "base_uri": "https://localhost:8080/"
        },
        "id": "Ej9ECzOc3nzA",
        "outputId": "f27d01a3-dde0-47a3-c00b-0d40c9f4215d"
      },
      "execution_count": 23,
      "outputs": [
        {
          "output_type": "stream",
          "name": "stdout",
          "text": [
            "est_mean=3.500412\n",
            "est_var=2.916051830256\n",
            "upper_est_2SD=3.503827290225006\n",
            "lower_est_2SD=3.4969967097749937\n"
          ]
        }
      ]
    },
    {
      "cell_type": "markdown",
      "source": [
        "# Another improvement: An online algorithm for the mean"
      ],
      "metadata": {
        "id": "d3fWk_-05R7w"
      }
    },
    {
      "cell_type": "code",
      "source": [
        "est_mean = 0\n",
        "N=10**6\n",
        "for n in range(1,N+1):\n",
        "  x = my_dice_roll()\n",
        "  est_mean += 1/n*(x - est_mean)\n",
        "\n",
        "print(est_mean)"
      ],
      "metadata": {
        "colab": {
          "base_uri": "https://localhost:8080/"
        },
        "id": "h-l7SzFf3cZ5",
        "outputId": "fea7a89a-eb04-41bd-c471-37078a429922"
      },
      "execution_count": 24,
      "outputs": [
        {
          "output_type": "stream",
          "name": "stdout",
          "text": [
            "3.5026629999998957\n"
          ]
        }
      ]
    },
    {
      "cell_type": "markdown",
      "source": [
        "# Online Algorithm for Mean and Variance: Welford's online algorithm"
      ],
      "metadata": {
        "id": "NlRJaDNU5ssF"
      }
    },
    {
      "cell_type": "markdown",
      "source": [
        "From wiki page https://en.wikipedia.org/wiki/Algorithms_for_calculating_variance#Welford's_online_algorithm"
      ],
      "metadata": {
        "id": "DZH5ns9E54qw"
      }
    },
    {
      "cell_type": "code",
      "source": [
        "# For a new value new_value, compute the new count, new mean, the new M2.\n",
        "# mean accumulates the mean of the entire dataset\n",
        "# M2 aggregates the squared distance from the mean\n",
        "# count aggregates the number of samples seen so far\n",
        "def update(existing_aggregate, new_value):\n",
        "    (count, mean, M2) = existing_aggregate\n",
        "    count += 1\n",
        "    delta = new_value - mean\n",
        "    mean += delta / count\n",
        "    delta2 = new_value - mean\n",
        "    M2 += delta * delta2\n",
        "    return (count, mean, M2)\n",
        "\n",
        "# Retrieve the mean, variance and sample variance from an aggregate\n",
        "def finalize(existing_aggregate):\n",
        "    (count, mean, M2) = existing_aggregate\n",
        "    if count < 2:\n",
        "        return float(\"nan\")\n",
        "    else:\n",
        "        (mean, variance, sample_variance) = (mean, M2 / count, M2 / (count - 1))\n",
        "        return (mean, variance, sample_variance)\n",
        "\n",
        "\n",
        "#Initialize\n",
        "count, mean, M2 = (0,0,0)\n",
        "N=10**6\n",
        "for i in range(N):\n",
        "  x = my_dice_roll()\n",
        "  count, mean, M2 = update((count,mean,M2),x)\n",
        "\n",
        "est_mean, est_var, _ = finalize((count,mean,M2))\n",
        "\n",
        "\n",
        "print(f\"{est_mean=}\")\n",
        "print(f\"{est_var=}\")\n",
        "\n",
        "upper_est_2SD = est_mean + 2*np.sqrt(est_var/N)\n",
        "lower_est_2SD = est_mean - 2*np.sqrt(est_var/N)\n",
        "\n",
        "print(f\"{upper_est_2SD=}\")\n",
        "print(f\"{lower_est_2SD=}\")"
      ],
      "metadata": {
        "colab": {
          "base_uri": "https://localhost:8080/"
        },
        "id": "1hZmFggM5kNL",
        "outputId": "5c45357c-f954-4935-8c0b-86892e117127"
      },
      "execution_count": 25,
      "outputs": [
        {
          "output_type": "stream",
          "name": "stdout",
          "text": [
            "est_mean=3.4975289999999144\n",
            "est_var=2.9189918941590633\n",
            "upper_est_2SD=3.5009460114977933\n",
            "lower_est_2SD=3.4941119885020355\n"
          ]
        }
      ]
    },
    {
      "cell_type": "markdown",
      "source": [
        "# Constant alpha-averages: A lazy way to keep track of things\n",
        "\n",
        "\n"
      ],
      "metadata": {
        "id": "HrL60mqEnTxp"
      }
    },
    {
      "cell_type": "code",
      "source": [
        "est_mean = 0\n",
        "N=10**6\n",
        "alpha = 0.001\n",
        "for i in range(1,N+1):\n",
        "  x = my_dice_roll()\n",
        "  est_mean += alpha*(x - est_mean)\n",
        "\n",
        "print(est_mean)"
      ],
      "metadata": {
        "id": "oE9FwLl56JRr",
        "colab": {
          "base_uri": "https://localhost:8080/"
        },
        "outputId": "4d74d470-e117-4ef2-fcdf-34d541a26740"
      },
      "execution_count": 26,
      "outputs": [
        {
          "output_type": "stream",
          "name": "stdout",
          "text": [
            "3.4763437855051538\n"
          ]
        }
      ]
    }
  ]
}