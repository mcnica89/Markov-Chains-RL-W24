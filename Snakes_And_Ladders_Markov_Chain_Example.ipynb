{
  "nbformat": 4,
  "nbformat_minor": 0,
  "metadata": {
    "colab": {
      "provenance": [],
      "authorship_tag": "ABX9TyMtWp4XYwLN59VkxxOUeoz0",
      "include_colab_link": true
    },
    "kernelspec": {
      "name": "python3",
      "display_name": "Python 3"
    },
    "language_info": {
      "name": "python"
    }
  },
  "cells": [
    {
      "cell_type": "markdown",
      "metadata": {
        "id": "view-in-github",
        "colab_type": "text"
      },
      "source": [
        "<a href=\"https://colab.research.google.com/github/mcnica89/Markov-Chains-RL-W24/blob/main/Snakes_And_Ladders_Markov_Chain_Example.ipynb\" target=\"_parent\"><img src=\"https://colab.research.google.com/assets/colab-badge.svg\" alt=\"Open In Colab\"/></a>"
      ]
    },
    {
      "cell_type": "code",
      "execution_count": 5,
      "metadata": {
        "id": "AAR3uQLxujpi"
      },
      "outputs": [],
      "source": [
        "import numpy as np\n",
        "np.set_printoptions(precision=2,suppress=True)"
      ]
    },
    {
      "cell_type": "markdown",
      "source": [
        "# Find the Transition Matrix\n",
        "Square 0 to 9, and a ladder from 4 -> 7 and a snake from 8->2"
      ],
      "metadata": {
        "id": "I3G3xw3LZiGh"
      }
    },
    {
      "cell_type": "code",
      "source": [
        "TransitionMatrix = np.zeros((10,10))\n",
        "#loop over all possible states\n",
        "for from_ix in range(10):\n",
        "  for dice_roll in [1,2,3,4,5,6]:\n",
        "    to_ix = from_ix + dice_roll\n",
        "    if to_ix >= 9: #if you go >9 then you end at 9\n",
        "      to_ix = 9\n",
        "\n",
        "    #Alternate \"British Rules\": if you go past the end, you dont move (must get it exactly at 9)\n",
        "    #if to_ix > 9:\n",
        "    #  to_ix = from_ix\n",
        "\n",
        "    if to_ix == 4: #ladder from 4->7\n",
        "      to_ix = 7\n",
        "    if to_ix == 8: #snake from 8->2\n",
        "      to_ix = 2\n",
        "    TransitionMatrix[from_ix,to_ix] += 1/6\n",
        "\n",
        "print(f\"{TransitionMatrix=}\")"
      ],
      "metadata": {
        "id": "PscO5M48u74z",
        "colab": {
          "base_uri": "https://localhost:8080/"
        },
        "outputId": "f3a6f49e-468c-4bbe-a3f6-5ef6787da637"
      },
      "execution_count": 23,
      "outputs": [
        {
          "output_type": "stream",
          "name": "stdout",
          "text": [
            "TransitionMatrix=array([[0.  , 0.17, 0.17, 0.17, 0.  , 0.17, 0.17, 0.17, 0.  , 0.  ],\n",
            "       [0.  , 0.  , 0.17, 0.17, 0.  , 0.17, 0.17, 0.33, 0.  , 0.  ],\n",
            "       [0.  , 0.  , 0.17, 0.17, 0.  , 0.17, 0.17, 0.33, 0.  , 0.  ],\n",
            "       [0.  , 0.  , 0.17, 0.  , 0.  , 0.17, 0.17, 0.33, 0.  , 0.17],\n",
            "       [0.  , 0.  , 0.17, 0.  , 0.  , 0.17, 0.17, 0.17, 0.  , 0.33],\n",
            "       [0.  , 0.  , 0.17, 0.  , 0.  , 0.  , 0.17, 0.17, 0.  , 0.5 ],\n",
            "       [0.  , 0.  , 0.17, 0.  , 0.  , 0.  , 0.  , 0.17, 0.  , 0.67],\n",
            "       [0.  , 0.  , 0.17, 0.  , 0.  , 0.  , 0.  , 0.  , 0.  , 0.83],\n",
            "       [0.  , 0.  , 0.  , 0.  , 0.  , 0.  , 0.  , 0.  , 0.  , 1.  ],\n",
            "       [0.  , 0.  , 0.  , 0.  , 0.  , 0.  , 0.  , 0.  , 0.  , 1.  ]])\n"
          ]
        }
      ]
    },
    {
      "cell_type": "markdown",
      "source": [
        "## Compute Probabilities\n",
        "\n",
        "Use the formula $\\vec{p}_{next} = \\vec{p}_{now} M$"
      ],
      "metadata": {
        "id": "snOXyX0dZ14K"
      }
    },
    {
      "cell_type": "code",
      "source": [
        "round0_probs = np.array([1., 0, 0,0,0,0,0,0,0,0])\n",
        "print(f\"{round0_probs=}\")"
      ],
      "metadata": {
        "id": "80TyIRsjunE_",
        "colab": {
          "base_uri": "https://localhost:8080/"
        },
        "outputId": "e9afc71d-5de4-4d23-d57b-97c9391c2879"
      },
      "execution_count": 24,
      "outputs": [
        {
          "output_type": "stream",
          "name": "stdout",
          "text": [
            "round0_probs=array([1., 0., 0., 0., 0., 0., 0., 0., 0., 0.])\n"
          ]
        }
      ]
    },
    {
      "cell_type": "code",
      "source": [
        "round1_probs = round0_probs @ TransitionMatrix\n",
        "print(f\"{round1_probs=}\")\n",
        "print(f\"{6*round1_probs=}\")"
      ],
      "metadata": {
        "id": "bXYvuTYGveiU",
        "colab": {
          "base_uri": "https://localhost:8080/"
        },
        "outputId": "1cdc3c2d-68a5-4de0-91f2-f43c85e73b37"
      },
      "execution_count": 25,
      "outputs": [
        {
          "output_type": "stream",
          "name": "stdout",
          "text": [
            "round1_probs=array([0.  , 0.17, 0.17, 0.17, 0.  , 0.17, 0.17, 0.17, 0.  , 0.  ])\n",
            "6*round1_probs=array([0., 1., 1., 1., 0., 1., 1., 1., 0., 0.])\n"
          ]
        }
      ]
    },
    {
      "cell_type": "code",
      "source": [
        "round2_probs = round1_probs @ TransitionMatrix\n",
        "print(f\"{round2_probs=}\")\n",
        "print(f\"{36*round2_probs=}\")"
      ],
      "metadata": {
        "id": "iQKXklo7vlDA",
        "colab": {
          "base_uri": "https://localhost:8080/"
        },
        "outputId": "d5cbf768-97b9-49c1-cea8-89c1b3f48d06"
      },
      "execution_count": 26,
      "outputs": [
        {
          "output_type": "stream",
          "name": "stdout",
          "text": [
            "round2_probs=array([0.  , 0.  , 0.17, 0.06, 0.  , 0.08, 0.11, 0.22, 0.  , 0.36])\n",
            "36*round2_probs=array([ 0.,  0.,  6.,  2.,  0.,  3.,  4.,  8.,  0., 13.])\n"
          ]
        }
      ]
    },
    {
      "cell_type": "code",
      "source": [
        "round3_probs = round2_probs @ TransitionMatrix\n",
        "print(f\"{round3_probs=}\")\n",
        "print(f\"{216*round3_probs=}\")"
      ],
      "metadata": {
        "colab": {
          "base_uri": "https://localhost:8080/"
        },
        "id": "xevggFwkwhKG",
        "outputId": "3702d680-ca32-4b2e-86cd-966ceed43f89"
      },
      "execution_count": 27,
      "outputs": [
        {
          "output_type": "stream",
          "name": "stdout",
          "text": [
            "round3_probs=array([0.  , 0.  , 0.11, 0.03, 0.  , 0.04, 0.05, 0.11, 0.  , 0.67])\n",
            "216*round3_probs=array([  0.,   0.,  23.,   6.,   0.,   8.,  11.,  23.,   0., 145.])\n"
          ]
        }
      ]
    },
    {
      "cell_type": "markdown",
      "source": [
        "# Calculate expected number of rolls to finish by Infinite Sum\n",
        "\n",
        "From the formula $N_s = \\text{Number of times state $s$ is visited}=\\sum_{t=1}^\\infty 1\\{S_t = s\\}$ we have $\\mathbb{E}[N_s] = \\sum_{t=1}^\\infty \\mathbb{P}(S_t=s)$. But this probability is given by the matrix $M^t$.\n",
        "\n",
        "We can then calcualte $I + M + M^2 + M^3 + ... + M^n $ has the expected number of times each state is visited in the first $n$ rolls.\n",
        "\n"
      ],
      "metadata": {
        "id": "7VUl6DuMyg1r"
      }
    },
    {
      "cell_type": "code",
      "source": [
        "total_E_visits = np.zeros(10)\n",
        "p_t = round0_probs\n",
        "print(f\"Starting at: {p_t}\")\n",
        "t_max = 100 #only look up the first 100 rolls (Q: Is this enough? How could we tell?)\n",
        "for t in range(t_max):\n",
        "  total_E_visits += p_t\n",
        "  print(f\"-------\")\n",
        "  print(f\"{p_t=}\")\n",
        "  p_t = p_t @ TransitionMatrix\n",
        "  print(f\"E visits = {total_E_visits}\")"
      ],
      "metadata": {
        "colab": {
          "base_uri": "https://localhost:8080/"
        },
        "id": "-aNnPWgqy1Ed",
        "outputId": "79badd48-67f9-47b5-9ff5-7ab2ed874550"
      },
      "execution_count": 35,
      "outputs": [
        {
          "output_type": "stream",
          "name": "stdout",
          "text": [
            "Starting at: [1. 0. 0. 0. 0. 0. 0. 0. 0. 0.]\n",
            "-------\n",
            "p_t=array([1., 0., 0., 0., 0., 0., 0., 0., 0., 0.])\n",
            "E visits = [1. 0. 0. 0. 0. 0. 0. 0. 0. 0.]\n",
            "-------\n",
            "p_t=array([0.  , 0.17, 0.17, 0.17, 0.  , 0.17, 0.17, 0.17, 0.  , 0.  ])\n",
            "E visits = [1.   0.17 0.17 0.17 0.   0.17 0.17 0.17 0.   0.  ]\n",
            "-------\n",
            "p_t=array([0.  , 0.  , 0.17, 0.06, 0.  , 0.08, 0.11, 0.22, 0.  , 0.36])\n",
            "E visits = [1.   0.17 0.33 0.22 0.   0.25 0.28 0.39 0.   0.36]\n",
            "-------\n",
            "p_t=array([0.  , 0.  , 0.11, 0.03, 0.  , 0.04, 0.05, 0.11, 0.  , 0.67])\n",
            "E visits = [1.   0.17 0.44 0.25 0.   0.29 0.33 0.5  0.   1.03]\n",
            "-------\n",
            "p_t=array([0.  , 0.  , 0.05, 0.02, 0.  , 0.02, 0.03, 0.06, 0.  , 0.82])\n",
            "E visits = [1.   0.17 0.49 0.27 0.   0.31 0.36 0.55 0.   1.85]\n",
            "-------\n",
            "p_t=array([0.  , 0.  , 0.03, 0.01, 0.  , 0.01, 0.02, 0.03, 0.  , 0.9 ])\n",
            "E visits = [1.   0.17 0.53 0.28 0.   0.32 0.37 0.59 0.   2.75]\n",
            "-------\n",
            "p_t=array([0.  , 0.  , 0.02, 0.01, 0.  , 0.01, 0.01, 0.02, 0.  , 0.95])\n",
            "E visits = [1.   0.17 0.54 0.28 0.   0.33 0.38 0.61 0.   3.69]\n",
            "-------\n",
            "p_t=array([0.  , 0.  , 0.01, 0.  , 0.  , 0.  , 0.  , 0.01, 0.  , 0.97])\n",
            "E visits = [1.   0.17 0.55 0.28 0.   0.33 0.39 0.62 0.   4.66]\n",
            "-------\n",
            "p_t=array([0.  , 0.  , 0.01, 0.  , 0.  , 0.  , 0.  , 0.01, 0.  , 0.98])\n",
            "E visits = [1.   0.17 0.56 0.29 0.   0.33 0.39 0.62 0.   5.65]\n",
            "-------\n",
            "p_t=array([0.  , 0.  , 0.  , 0.  , 0.  , 0.  , 0.  , 0.  , 0.  , 0.99])\n",
            "E visits = [1.   0.17 0.56 0.29 0.   0.33 0.39 0.62 0.   6.64]\n",
            "-------\n",
            "p_t=array([0., 0., 0., 0., 0., 0., 0., 0., 0., 1.])\n",
            "E visits = [1.   0.17 0.56 0.29 0.   0.34 0.39 0.63 0.   7.63]\n",
            "-------\n",
            "p_t=array([0., 0., 0., 0., 0., 0., 0., 0., 0., 1.])\n",
            "E visits = [1.   0.17 0.56 0.29 0.   0.34 0.39 0.63 0.   8.63]\n",
            "-------\n",
            "p_t=array([0., 0., 0., 0., 0., 0., 0., 0., 0., 1.])\n",
            "E visits = [1.   0.17 0.56 0.29 0.   0.34 0.39 0.63 0.   9.63]\n",
            "-------\n",
            "p_t=array([0., 0., 0., 0., 0., 0., 0., 0., 0., 1.])\n",
            "E visits = [ 1.    0.17  0.56  0.29  0.    0.34  0.39  0.63  0.   10.63]\n",
            "-------\n",
            "p_t=array([0., 0., 0., 0., 0., 0., 0., 0., 0., 1.])\n",
            "E visits = [ 1.    0.17  0.56  0.29  0.    0.34  0.39  0.63  0.   11.63]\n",
            "-------\n",
            "p_t=array([0., 0., 0., 0., 0., 0., 0., 0., 0., 1.])\n",
            "E visits = [ 1.    0.17  0.56  0.29  0.    0.34  0.39  0.63  0.   12.63]\n",
            "-------\n",
            "p_t=array([0., 0., 0., 0., 0., 0., 0., 0., 0., 1.])\n",
            "E visits = [ 1.    0.17  0.56  0.29  0.    0.34  0.39  0.63  0.   13.63]\n",
            "-------\n",
            "p_t=array([0., 0., 0., 0., 0., 0., 0., 0., 0., 1.])\n",
            "E visits = [ 1.    0.17  0.56  0.29  0.    0.34  0.39  0.63  0.   14.63]\n",
            "-------\n",
            "p_t=array([0., 0., 0., 0., 0., 0., 0., 0., 0., 1.])\n",
            "E visits = [ 1.    0.17  0.56  0.29  0.    0.34  0.39  0.63  0.   15.63]\n",
            "-------\n",
            "p_t=array([0., 0., 0., 0., 0., 0., 0., 0., 0., 1.])\n",
            "E visits = [ 1.    0.17  0.56  0.29  0.    0.34  0.39  0.63  0.   16.63]\n",
            "-------\n",
            "p_t=array([0., 0., 0., 0., 0., 0., 0., 0., 0., 1.])\n",
            "E visits = [ 1.    0.17  0.56  0.29  0.    0.34  0.39  0.63  0.   17.63]\n",
            "-------\n",
            "p_t=array([0., 0., 0., 0., 0., 0., 0., 0., 0., 1.])\n",
            "E visits = [ 1.    0.17  0.56  0.29  0.    0.34  0.39  0.63  0.   18.63]\n",
            "-------\n",
            "p_t=array([0., 0., 0., 0., 0., 0., 0., 0., 0., 1.])\n",
            "E visits = [ 1.    0.17  0.56  0.29  0.    0.34  0.39  0.63  0.   19.63]\n",
            "-------\n",
            "p_t=array([0., 0., 0., 0., 0., 0., 0., 0., 0., 1.])\n",
            "E visits = [ 1.    0.17  0.56  0.29  0.    0.34  0.39  0.63  0.   20.63]\n",
            "-------\n",
            "p_t=array([0., 0., 0., 0., 0., 0., 0., 0., 0., 1.])\n",
            "E visits = [ 1.    0.17  0.56  0.29  0.    0.34  0.39  0.63  0.   21.63]\n",
            "-------\n",
            "p_t=array([0., 0., 0., 0., 0., 0., 0., 0., 0., 1.])\n",
            "E visits = [ 1.    0.17  0.56  0.29  0.    0.34  0.39  0.63  0.   22.63]\n",
            "-------\n",
            "p_t=array([0., 0., 0., 0., 0., 0., 0., 0., 0., 1.])\n",
            "E visits = [ 1.    0.17  0.56  0.29  0.    0.34  0.39  0.63  0.   23.63]\n",
            "-------\n",
            "p_t=array([0., 0., 0., 0., 0., 0., 0., 0., 0., 1.])\n",
            "E visits = [ 1.    0.17  0.56  0.29  0.    0.34  0.39  0.63  0.   24.63]\n",
            "-------\n",
            "p_t=array([0., 0., 0., 0., 0., 0., 0., 0., 0., 1.])\n",
            "E visits = [ 1.    0.17  0.56  0.29  0.    0.34  0.39  0.63  0.   25.63]\n",
            "-------\n",
            "p_t=array([0., 0., 0., 0., 0., 0., 0., 0., 0., 1.])\n",
            "E visits = [ 1.    0.17  0.56  0.29  0.    0.34  0.39  0.63  0.   26.63]\n",
            "-------\n",
            "p_t=array([0., 0., 0., 0., 0., 0., 0., 0., 0., 1.])\n",
            "E visits = [ 1.    0.17  0.56  0.29  0.    0.34  0.39  0.63  0.   27.63]\n",
            "-------\n",
            "p_t=array([0., 0., 0., 0., 0., 0., 0., 0., 0., 1.])\n",
            "E visits = [ 1.    0.17  0.56  0.29  0.    0.34  0.39  0.63  0.   28.63]\n",
            "-------\n",
            "p_t=array([0., 0., 0., 0., 0., 0., 0., 0., 0., 1.])\n",
            "E visits = [ 1.    0.17  0.56  0.29  0.    0.34  0.39  0.63  0.   29.63]\n",
            "-------\n",
            "p_t=array([0., 0., 0., 0., 0., 0., 0., 0., 0., 1.])\n",
            "E visits = [ 1.    0.17  0.56  0.29  0.    0.34  0.39  0.63  0.   30.63]\n",
            "-------\n",
            "p_t=array([0., 0., 0., 0., 0., 0., 0., 0., 0., 1.])\n",
            "E visits = [ 1.    0.17  0.56  0.29  0.    0.34  0.39  0.63  0.   31.63]\n",
            "-------\n",
            "p_t=array([0., 0., 0., 0., 0., 0., 0., 0., 0., 1.])\n",
            "E visits = [ 1.    0.17  0.56  0.29  0.    0.34  0.39  0.63  0.   32.63]\n",
            "-------\n",
            "p_t=array([0., 0., 0., 0., 0., 0., 0., 0., 0., 1.])\n",
            "E visits = [ 1.    0.17  0.56  0.29  0.    0.34  0.39  0.63  0.   33.63]\n",
            "-------\n",
            "p_t=array([0., 0., 0., 0., 0., 0., 0., 0., 0., 1.])\n",
            "E visits = [ 1.    0.17  0.56  0.29  0.    0.34  0.39  0.63  0.   34.63]\n",
            "-------\n",
            "p_t=array([0., 0., 0., 0., 0., 0., 0., 0., 0., 1.])\n",
            "E visits = [ 1.    0.17  0.56  0.29  0.    0.34  0.39  0.63  0.   35.63]\n",
            "-------\n",
            "p_t=array([0., 0., 0., 0., 0., 0., 0., 0., 0., 1.])\n",
            "E visits = [ 1.    0.17  0.56  0.29  0.    0.34  0.39  0.63  0.   36.63]\n",
            "-------\n",
            "p_t=array([0., 0., 0., 0., 0., 0., 0., 0., 0., 1.])\n",
            "E visits = [ 1.    0.17  0.56  0.29  0.    0.34  0.39  0.63  0.   37.63]\n",
            "-------\n",
            "p_t=array([0., 0., 0., 0., 0., 0., 0., 0., 0., 1.])\n",
            "E visits = [ 1.    0.17  0.56  0.29  0.    0.34  0.39  0.63  0.   38.63]\n",
            "-------\n",
            "p_t=array([0., 0., 0., 0., 0., 0., 0., 0., 0., 1.])\n",
            "E visits = [ 1.    0.17  0.56  0.29  0.    0.34  0.39  0.63  0.   39.63]\n",
            "-------\n",
            "p_t=array([0., 0., 0., 0., 0., 0., 0., 0., 0., 1.])\n",
            "E visits = [ 1.    0.17  0.56  0.29  0.    0.34  0.39  0.63  0.   40.63]\n",
            "-------\n",
            "p_t=array([0., 0., 0., 0., 0., 0., 0., 0., 0., 1.])\n",
            "E visits = [ 1.    0.17  0.56  0.29  0.    0.34  0.39  0.63  0.   41.63]\n",
            "-------\n",
            "p_t=array([0., 0., 0., 0., 0., 0., 0., 0., 0., 1.])\n",
            "E visits = [ 1.    0.17  0.56  0.29  0.    0.34  0.39  0.63  0.   42.63]\n",
            "-------\n",
            "p_t=array([0., 0., 0., 0., 0., 0., 0., 0., 0., 1.])\n",
            "E visits = [ 1.    0.17  0.56  0.29  0.    0.34  0.39  0.63  0.   43.63]\n",
            "-------\n",
            "p_t=array([0., 0., 0., 0., 0., 0., 0., 0., 0., 1.])\n",
            "E visits = [ 1.    0.17  0.56  0.29  0.    0.34  0.39  0.63  0.   44.63]\n",
            "-------\n",
            "p_t=array([0., 0., 0., 0., 0., 0., 0., 0., 0., 1.])\n",
            "E visits = [ 1.    0.17  0.56  0.29  0.    0.34  0.39  0.63  0.   45.63]\n",
            "-------\n",
            "p_t=array([0., 0., 0., 0., 0., 0., 0., 0., 0., 1.])\n",
            "E visits = [ 1.    0.17  0.56  0.29  0.    0.34  0.39  0.63  0.   46.63]\n",
            "-------\n",
            "p_t=array([0., 0., 0., 0., 0., 0., 0., 0., 0., 1.])\n",
            "E visits = [ 1.    0.17  0.56  0.29  0.    0.34  0.39  0.63  0.   47.63]\n",
            "-------\n",
            "p_t=array([0., 0., 0., 0., 0., 0., 0., 0., 0., 1.])\n",
            "E visits = [ 1.    0.17  0.56  0.29  0.    0.34  0.39  0.63  0.   48.63]\n",
            "-------\n",
            "p_t=array([0., 0., 0., 0., 0., 0., 0., 0., 0., 1.])\n",
            "E visits = [ 1.    0.17  0.56  0.29  0.    0.34  0.39  0.63  0.   49.63]\n",
            "-------\n",
            "p_t=array([0., 0., 0., 0., 0., 0., 0., 0., 0., 1.])\n",
            "E visits = [ 1.    0.17  0.56  0.29  0.    0.34  0.39  0.63  0.   50.63]\n",
            "-------\n",
            "p_t=array([0., 0., 0., 0., 0., 0., 0., 0., 0., 1.])\n",
            "E visits = [ 1.    0.17  0.56  0.29  0.    0.34  0.39  0.63  0.   51.63]\n",
            "-------\n",
            "p_t=array([0., 0., 0., 0., 0., 0., 0., 0., 0., 1.])\n",
            "E visits = [ 1.    0.17  0.56  0.29  0.    0.34  0.39  0.63  0.   52.63]\n",
            "-------\n",
            "p_t=array([0., 0., 0., 0., 0., 0., 0., 0., 0., 1.])\n",
            "E visits = [ 1.    0.17  0.56  0.29  0.    0.34  0.39  0.63  0.   53.63]\n",
            "-------\n",
            "p_t=array([0., 0., 0., 0., 0., 0., 0., 0., 0., 1.])\n",
            "E visits = [ 1.    0.17  0.56  0.29  0.    0.34  0.39  0.63  0.   54.63]\n",
            "-------\n",
            "p_t=array([0., 0., 0., 0., 0., 0., 0., 0., 0., 1.])\n",
            "E visits = [ 1.    0.17  0.56  0.29  0.    0.34  0.39  0.63  0.   55.63]\n",
            "-------\n",
            "p_t=array([0., 0., 0., 0., 0., 0., 0., 0., 0., 1.])\n",
            "E visits = [ 1.    0.17  0.56  0.29  0.    0.34  0.39  0.63  0.   56.63]\n",
            "-------\n",
            "p_t=array([0., 0., 0., 0., 0., 0., 0., 0., 0., 1.])\n",
            "E visits = [ 1.    0.17  0.56  0.29  0.    0.34  0.39  0.63  0.   57.63]\n",
            "-------\n",
            "p_t=array([0., 0., 0., 0., 0., 0., 0., 0., 0., 1.])\n",
            "E visits = [ 1.    0.17  0.56  0.29  0.    0.34  0.39  0.63  0.   58.63]\n",
            "-------\n",
            "p_t=array([0., 0., 0., 0., 0., 0., 0., 0., 0., 1.])\n",
            "E visits = [ 1.    0.17  0.56  0.29  0.    0.34  0.39  0.63  0.   59.63]\n",
            "-------\n",
            "p_t=array([0., 0., 0., 0., 0., 0., 0., 0., 0., 1.])\n",
            "E visits = [ 1.    0.17  0.56  0.29  0.    0.34  0.39  0.63  0.   60.63]\n",
            "-------\n",
            "p_t=array([0., 0., 0., 0., 0., 0., 0., 0., 0., 1.])\n",
            "E visits = [ 1.    0.17  0.56  0.29  0.    0.34  0.39  0.63  0.   61.63]\n",
            "-------\n",
            "p_t=array([0., 0., 0., 0., 0., 0., 0., 0., 0., 1.])\n",
            "E visits = [ 1.    0.17  0.56  0.29  0.    0.34  0.39  0.63  0.   62.63]\n",
            "-------\n",
            "p_t=array([0., 0., 0., 0., 0., 0., 0., 0., 0., 1.])\n",
            "E visits = [ 1.    0.17  0.56  0.29  0.    0.34  0.39  0.63  0.   63.63]\n",
            "-------\n",
            "p_t=array([0., 0., 0., 0., 0., 0., 0., 0., 0., 1.])\n",
            "E visits = [ 1.    0.17  0.56  0.29  0.    0.34  0.39  0.63  0.   64.63]\n",
            "-------\n",
            "p_t=array([0., 0., 0., 0., 0., 0., 0., 0., 0., 1.])\n",
            "E visits = [ 1.    0.17  0.56  0.29  0.    0.34  0.39  0.63  0.   65.63]\n",
            "-------\n",
            "p_t=array([0., 0., 0., 0., 0., 0., 0., 0., 0., 1.])\n",
            "E visits = [ 1.    0.17  0.56  0.29  0.    0.34  0.39  0.63  0.   66.63]\n",
            "-------\n",
            "p_t=array([0., 0., 0., 0., 0., 0., 0., 0., 0., 1.])\n",
            "E visits = [ 1.    0.17  0.56  0.29  0.    0.34  0.39  0.63  0.   67.63]\n",
            "-------\n",
            "p_t=array([0., 0., 0., 0., 0., 0., 0., 0., 0., 1.])\n",
            "E visits = [ 1.    0.17  0.56  0.29  0.    0.34  0.39  0.63  0.   68.63]\n",
            "-------\n",
            "p_t=array([0., 0., 0., 0., 0., 0., 0., 0., 0., 1.])\n",
            "E visits = [ 1.    0.17  0.56  0.29  0.    0.34  0.39  0.63  0.   69.63]\n",
            "-------\n",
            "p_t=array([0., 0., 0., 0., 0., 0., 0., 0., 0., 1.])\n",
            "E visits = [ 1.    0.17  0.56  0.29  0.    0.34  0.39  0.63  0.   70.63]\n",
            "-------\n",
            "p_t=array([0., 0., 0., 0., 0., 0., 0., 0., 0., 1.])\n",
            "E visits = [ 1.    0.17  0.56  0.29  0.    0.34  0.39  0.63  0.   71.63]\n",
            "-------\n",
            "p_t=array([0., 0., 0., 0., 0., 0., 0., 0., 0., 1.])\n",
            "E visits = [ 1.    0.17  0.56  0.29  0.    0.34  0.39  0.63  0.   72.63]\n",
            "-------\n",
            "p_t=array([0., 0., 0., 0., 0., 0., 0., 0., 0., 1.])\n",
            "E visits = [ 1.    0.17  0.56  0.29  0.    0.34  0.39  0.63  0.   73.63]\n",
            "-------\n",
            "p_t=array([0., 0., 0., 0., 0., 0., 0., 0., 0., 1.])\n",
            "E visits = [ 1.    0.17  0.56  0.29  0.    0.34  0.39  0.63  0.   74.63]\n",
            "-------\n",
            "p_t=array([0., 0., 0., 0., 0., 0., 0., 0., 0., 1.])\n",
            "E visits = [ 1.    0.17  0.56  0.29  0.    0.34  0.39  0.63  0.   75.63]\n",
            "-------\n",
            "p_t=array([0., 0., 0., 0., 0., 0., 0., 0., 0., 1.])\n",
            "E visits = [ 1.    0.17  0.56  0.29  0.    0.34  0.39  0.63  0.   76.63]\n",
            "-------\n",
            "p_t=array([0., 0., 0., 0., 0., 0., 0., 0., 0., 1.])\n",
            "E visits = [ 1.    0.17  0.56  0.29  0.    0.34  0.39  0.63  0.   77.63]\n",
            "-------\n",
            "p_t=array([0., 0., 0., 0., 0., 0., 0., 0., 0., 1.])\n",
            "E visits = [ 1.    0.17  0.56  0.29  0.    0.34  0.39  0.63  0.   78.63]\n",
            "-------\n",
            "p_t=array([0., 0., 0., 0., 0., 0., 0., 0., 0., 1.])\n",
            "E visits = [ 1.    0.17  0.56  0.29  0.    0.34  0.39  0.63  0.   79.63]\n",
            "-------\n",
            "p_t=array([0., 0., 0., 0., 0., 0., 0., 0., 0., 1.])\n",
            "E visits = [ 1.    0.17  0.56  0.29  0.    0.34  0.39  0.63  0.   80.63]\n",
            "-------\n",
            "p_t=array([0., 0., 0., 0., 0., 0., 0., 0., 0., 1.])\n",
            "E visits = [ 1.    0.17  0.56  0.29  0.    0.34  0.39  0.63  0.   81.63]\n",
            "-------\n",
            "p_t=array([0., 0., 0., 0., 0., 0., 0., 0., 0., 1.])\n",
            "E visits = [ 1.    0.17  0.56  0.29  0.    0.34  0.39  0.63  0.   82.63]\n",
            "-------\n",
            "p_t=array([0., 0., 0., 0., 0., 0., 0., 0., 0., 1.])\n",
            "E visits = [ 1.    0.17  0.56  0.29  0.    0.34  0.39  0.63  0.   83.63]\n",
            "-------\n",
            "p_t=array([0., 0., 0., 0., 0., 0., 0., 0., 0., 1.])\n",
            "E visits = [ 1.    0.17  0.56  0.29  0.    0.34  0.39  0.63  0.   84.63]\n",
            "-------\n",
            "p_t=array([0., 0., 0., 0., 0., 0., 0., 0., 0., 1.])\n",
            "E visits = [ 1.    0.17  0.56  0.29  0.    0.34  0.39  0.63  0.   85.63]\n",
            "-------\n",
            "p_t=array([0., 0., 0., 0., 0., 0., 0., 0., 0., 1.])\n",
            "E visits = [ 1.    0.17  0.56  0.29  0.    0.34  0.39  0.63  0.   86.63]\n",
            "-------\n",
            "p_t=array([0., 0., 0., 0., 0., 0., 0., 0., 0., 1.])\n",
            "E visits = [ 1.    0.17  0.56  0.29  0.    0.34  0.39  0.63  0.   87.63]\n",
            "-------\n",
            "p_t=array([0., 0., 0., 0., 0., 0., 0., 0., 0., 1.])\n",
            "E visits = [ 1.    0.17  0.56  0.29  0.    0.34  0.39  0.63  0.   88.63]\n",
            "-------\n",
            "p_t=array([0., 0., 0., 0., 0., 0., 0., 0., 0., 1.])\n",
            "E visits = [ 1.    0.17  0.56  0.29  0.    0.34  0.39  0.63  0.   89.63]\n",
            "-------\n",
            "p_t=array([0., 0., 0., 0., 0., 0., 0., 0., 0., 1.])\n",
            "E visits = [ 1.    0.17  0.56  0.29  0.    0.34  0.39  0.63  0.   90.63]\n",
            "-------\n",
            "p_t=array([0., 0., 0., 0., 0., 0., 0., 0., 0., 1.])\n",
            "E visits = [ 1.    0.17  0.56  0.29  0.    0.34  0.39  0.63  0.   91.63]\n",
            "-------\n",
            "p_t=array([0., 0., 0., 0., 0., 0., 0., 0., 0., 1.])\n",
            "E visits = [ 1.    0.17  0.56  0.29  0.    0.34  0.39  0.63  0.   92.63]\n",
            "-------\n",
            "p_t=array([0., 0., 0., 0., 0., 0., 0., 0., 0., 1.])\n",
            "E visits = [ 1.    0.17  0.56  0.29  0.    0.34  0.39  0.63  0.   93.63]\n",
            "-------\n",
            "p_t=array([0., 0., 0., 0., 0., 0., 0., 0., 0., 1.])\n",
            "E visits = [ 1.    0.17  0.56  0.29  0.    0.34  0.39  0.63  0.   94.63]\n",
            "-------\n",
            "p_t=array([0., 0., 0., 0., 0., 0., 0., 0., 0., 1.])\n",
            "E visits = [ 1.    0.17  0.56  0.29  0.    0.34  0.39  0.63  0.   95.63]\n",
            "-------\n",
            "p_t=array([0., 0., 0., 0., 0., 0., 0., 0., 0., 1.])\n",
            "E visits = [ 1.    0.17  0.56  0.29  0.    0.34  0.39  0.63  0.   96.63]\n"
          ]
        }
      ]
    },
    {
      "cell_type": "code",
      "source": [
        "Reward_v = -np.ones(10)\n",
        "Reward_v[-1] = 0\n",
        "print(f\"{Reward_v=}\")"
      ],
      "metadata": {
        "colab": {
          "base_uri": "https://localhost:8080/"
        },
        "id": "NJVkdKpPykDd",
        "outputId": "dd795713-538f-467d-c451-cf3f22ed3554"
      },
      "execution_count": 36,
      "outputs": [
        {
          "output_type": "stream",
          "name": "stdout",
          "text": [
            "Reward_v=array([-1., -1., -1., -1., -1., -1., -1., -1., -1.,  0.])\n"
          ]
        }
      ]
    },
    {
      "cell_type": "code",
      "source": [
        "E_number_of_rolls_to_end = -total_E_visits @ Reward_v\n",
        "print(f\"{E_number_of_rolls_to_end=}\")"
      ],
      "metadata": {
        "colab": {
          "base_uri": "https://localhost:8080/"
        },
        "id": "AN184uRWcBQz",
        "outputId": "fd7f4cfa-3800-4d81-9f73-54549c1efd31"
      },
      "execution_count": 37,
      "outputs": [
        {
          "output_type": "stream",
          "name": "stdout",
          "text": [
            "E_number_of_rolls_to_end=3.3720476283427674\n"
          ]
        }
      ]
    },
    {
      "cell_type": "markdown",
      "source": [
        "# Solving as a linear system\n",
        "\n",
        "The value function $v_s = \\mathbf{E}[Total Return|X_0 = s]$ satisfies\n",
        "\n",
        "$\\vec{v} = \\mathbf{E}[R_1 | X_0 = s] + M \\vec{v}$\n",
        "\n",
        "which we rearrange to\n",
        "\n",
        "$(I-M)\\vec{v} = \\mathbf{E}[R_1 | X_0 = s]$\n",
        "\n",
        "and can solve"
      ],
      "metadata": {
        "id": "cNIJYswFclJa"
      }
    },
    {
      "cell_type": "code",
      "source": [
        "Value_Function = np.linalg.solve( np.eye(10,10) - TransitionMatrix, Reward_v )"
      ],
      "metadata": {
        "id": "HuaeInAD1u6T"
      },
      "execution_count": 41,
      "outputs": []
    },
    {
      "cell_type": "code",
      "source": [
        "print(Value_Function)\n",
        "#Note that we got lucky here! If you add a constant to all the entries it still satisfies the equation!"
      ],
      "metadata": {
        "colab": {
          "base_uri": "https://localhost:8080/"
        },
        "id": "7V8wBjIe3yKo",
        "outputId": "f0016c70-e375-4944-d35d-0095f7ff173e"
      },
      "execution_count": 42,
      "outputs": [
        {
          "output_type": "stream",
          "name": "stdout",
          "text": [
            "[-3.37 -3.11 -3.11 -2.66 -2.41 -2.07 -1.77 -1.52 -1.    0.  ]\n"
          ]
        }
      ]
    },
    {
      "cell_type": "code",
      "source": [
        "#solution that ensures Value_Function[9] = 0 by using an augmented matrix\n",
        "\n",
        "IminusM= np.eye(10)-TransitionMatrix\n",
        "\n",
        "eqn_v9_is_0 = np.zeros((1,10))\n",
        "eqn_v9_is_0[0,9] = 1.0\n",
        "\n",
        "augmented_matrix = np.concatenate((eqn_v9_is_0,IminusM),axis=0)\n",
        "print(f\"{augmented_matrix=}\")\n",
        "\n",
        "target_vec = np.concatenate([np.array([0]),Reward_v],axis=0)\n",
        "print(f\"{target_vec=}\")\n",
        "\n",
        "\n",
        "value_vec = np.linalg.lstsq(augmented_matrix,target_vec,rcond=None)[0]\n",
        "print(f\"{value_vec=}\")"
      ],
      "metadata": {
        "colab": {
          "base_uri": "https://localhost:8080/"
        },
        "id": "CwPh27WvpTKM",
        "outputId": "0072392f-7922-48d5-8261-ddc464bfc07c"
      },
      "execution_count": 45,
      "outputs": [
        {
          "output_type": "stream",
          "name": "stdout",
          "text": [
            "augmented_matrix=array([[ 0.  ,  0.  ,  0.  ,  0.  ,  0.  ,  0.  ,  0.  ,  0.  ,  0.  ,\n",
            "         1.  ],\n",
            "       [ 1.  , -0.17, -0.17, -0.17,  0.  , -0.17, -0.17, -0.17,  0.  ,\n",
            "         0.  ],\n",
            "       [ 0.  ,  1.  , -0.17, -0.17,  0.  , -0.17, -0.17, -0.33,  0.  ,\n",
            "         0.  ],\n",
            "       [ 0.  ,  0.  ,  0.83, -0.17,  0.  , -0.17, -0.17, -0.33,  0.  ,\n",
            "         0.  ],\n",
            "       [ 0.  ,  0.  , -0.17,  1.  ,  0.  , -0.17, -0.17, -0.33,  0.  ,\n",
            "        -0.17],\n",
            "       [ 0.  ,  0.  , -0.17,  0.  ,  1.  , -0.17, -0.17, -0.17,  0.  ,\n",
            "        -0.33],\n",
            "       [ 0.  ,  0.  , -0.17,  0.  ,  0.  ,  1.  , -0.17, -0.17,  0.  ,\n",
            "        -0.5 ],\n",
            "       [ 0.  ,  0.  , -0.17,  0.  ,  0.  ,  0.  ,  1.  , -0.17,  0.  ,\n",
            "        -0.67],\n",
            "       [ 0.  ,  0.  , -0.17,  0.  ,  0.  ,  0.  ,  0.  ,  1.  ,  0.  ,\n",
            "        -0.83],\n",
            "       [ 0.  ,  0.  ,  0.  ,  0.  ,  0.  ,  0.  ,  0.  ,  0.  ,  1.  ,\n",
            "        -1.  ],\n",
            "       [ 0.  ,  0.  ,  0.  ,  0.  ,  0.  ,  0.  ,  0.  ,  0.  ,  0.  ,\n",
            "         0.  ]])\n",
            "target_vec=array([ 0., -1., -1., -1., -1., -1., -1., -1., -1., -1.,  0.])\n",
            "value_vec=array([-3.37, -3.11, -3.11, -2.66, -2.41, -2.07, -1.77, -1.52, -1.  ,\n",
            "        0.  ])\n"
          ]
        }
      ]
    },
    {
      "cell_type": "code",
      "source": [],
      "metadata": {
        "id": "gV2rAmdKpmTB"
      },
      "execution_count": null,
      "outputs": []
    }
  ]
}