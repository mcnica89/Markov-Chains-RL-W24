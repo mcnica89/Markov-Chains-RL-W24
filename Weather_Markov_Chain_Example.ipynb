{
  "nbformat": 4,
  "nbformat_minor": 0,
  "metadata": {
    "colab": {
      "provenance": [],
      "authorship_tag": "ABX9TyMGls8LK83OgFRgnSpPf2gs",
      "include_colab_link": true
    },
    "kernelspec": {
      "name": "python3",
      "display_name": "Python 3"
    },
    "language_info": {
      "name": "python"
    }
  },
  "cells": [
    {
      "cell_type": "markdown",
      "metadata": {
        "id": "view-in-github",
        "colab_type": "text"
      },
      "source": [
        "<a href=\"https://colab.research.google.com/github/mcnica89/Markov-Chains-RL-W24/blob/main/Weather_Markov_Chain_Example.ipynb\" target=\"_parent\"><img src=\"https://colab.research.google.com/assets/colab-badge.svg\" alt=\"Open In Colab\"/></a>"
      ]
    },
    {
      "cell_type": "code",
      "source": [
        "import numpy as np\n",
        "import matplotlib.pyplot as plt\n",
        "np.set_printoptions(precision=4,suppress=True) #will print everything to two decimal places with scientifc notation supressed"
      ],
      "metadata": {
        "id": "AtgumQEr-_ln"
      },
      "execution_count": 1,
      "outputs": []
    },
    {
      "cell_type": "markdown",
      "source": [
        "# The Problem\n",
        "\n",
        "Consider the following Markov chain model for the weather, where each day it is either \"rainy\" (R) or \"nice\" (N). The weather for the coming days is a squence of random variables $S_1,S_2,S_3,\\ldots$.\n",
        "\n",
        "Rule 1. If it rains today, then it is rainy tomorrow with probability $\\frac{2}{5}$ (and otherwise it is nice)\n",
        "\n",
        "Rule 2. If it is nice today, then it rains tomorrow with probability $\\frac{1}{5}$ (and otherwise it is nice)\n",
        "\n",
        "If it rains today, (i.e. $S_0 = R$) then the probability it is raining three days from now is some fraction with a denominator of 125. Find the numerator: $\\mathbf{P}(S_3 = R)= \\frac{?}{125}$\n",
        "\n",
        "(Answer: The probability is 32/125)\n"
      ],
      "metadata": {
        "id": "VwlObiJ7TTjk"
      }
    },
    {
      "cell_type": "code",
      "execution_count": 2,
      "metadata": {
        "id": "jn_SjU6t-pO8",
        "colab": {
          "base_uri": "https://localhost:8080/"
        },
        "outputId": "7754d24f-3910-4be4-b28f-d4bc7ef1e81e"
      },
      "outputs": [
        {
          "output_type": "stream",
          "name": "stdout",
          "text": [
            "[[0.4 0.6]\n",
            " [0.2 0.8]]\n"
          ]
        }
      ],
      "source": [
        "#The transition matrix\n",
        "M = np.array([[0.4, 0.6],[0.2, 0.8]])\n",
        "print(M)"
      ]
    },
    {
      "cell_type": "code",
      "source": [
        "#initial probability vector\n",
        "v0 = np.array([1.0,0.0])\n",
        "\n",
        "#This list will store all the vectors in our simulation\n",
        "v_list = []\n",
        "\n",
        "N_days = 8 #Number of days to simulate\n",
        "for n in range(N_days):\n",
        "  print(\"-------\")\n",
        "  print(\"Day:\", n)\n",
        "  v = np.matmul(v0,np.linalg.matrix_power(M,n))\n",
        "  print(\"Probabilities: \",v)\n",
        "  v_list.append(v)\n",
        "\n",
        "print(\"----Plot-----\")\n",
        "v_array = np.stack(v_list)\n",
        "plt.plot(v_array,'o',label=[\"Rainy Probability\",\"Nice Probability\"])\n",
        "plt.legend()"
      ],
      "metadata": {
        "id": "gTi-kfPB_H0s",
        "colab": {
          "base_uri": "https://localhost:8080/",
          "height": 881
        },
        "outputId": "88595415-04dd-420b-c9da-e7decaea1f5c"
      },
      "execution_count": 3,
      "outputs": [
        {
          "output_type": "stream",
          "name": "stdout",
          "text": [
            "-------\n",
            "Day: 0\n",
            "Probabilities:  [1. 0.]\n",
            "-------\n",
            "Day: 1\n",
            "Probabilities:  [0.4 0.6]\n",
            "-------\n",
            "Day: 2\n",
            "Probabilities:  [0.28 0.72]\n",
            "-------\n",
            "Day: 3\n",
            "Probabilities:  [0.256 0.744]\n",
            "-------\n",
            "Day: 4\n",
            "Probabilities:  [0.2512 0.7488]\n",
            "-------\n",
            "Day: 5\n",
            "Probabilities:  [0.2502 0.7498]\n",
            "-------\n",
            "Day: 6\n",
            "Probabilities:  [0.25 0.75]\n",
            "-------\n",
            "Day: 7\n",
            "Probabilities:  [0.25 0.75]\n",
            "----Plot-----\n"
          ]
        },
        {
          "output_type": "execute_result",
          "data": {
            "text/plain": [
              "<matplotlib.legend.Legend at 0x78c0ac1831c0>"
            ]
          },
          "metadata": {},
          "execution_count": 3
        },
        {
          "output_type": "display_data",
          "data": {
            "text/plain": [
              "<Figure size 640x480 with 1 Axes>"
            ],
            "image/png": "[encoded data removed]"
          },
          "metadata": {}
        }
      ]
    },
    {
      "cell_type": "markdown",
      "source": [
        "# Theoretical Solution by the Eigenvalue Decomposition\n",
        "\n",
        "By using the eigenvalues $[1, 3] = [1, 3] M$ of eigenvalue $\\lambda = 1$ and $[1, -1] = \\frac{1}{5}[1, -1] M$ of eigenvalue $\\lambda = \\frac{1}{5}$, we got an exact answer:\n",
        "\n",
        "$$\\vec{p}_n = [1, 0]M^n = [\\frac{1+\\frac{3}{5^n}}{4}, \\frac{3-\\frac{3}{5^n}}{4}]$$"
      ],
      "metadata": {
        "id": "Lwp2xpdETxrm"
      }
    },
    {
      "cell_type": "code",
      "source": [
        "N = np.linspace(0,7,100)\n",
        "pows = np.power(0.2,N)\n",
        "f = np.stack( [(1+3*pows)/4,(3-3*pows)/4] ).T\n",
        "\n",
        "plt.plot(v_array,'o',label=[\"Rainy Probability\",\"Nice Probability\"])\n",
        "plt.plot(N,f,label=['Rainy Theory','Nice Theory'])\n",
        "plt.legend()"
      ],
      "metadata": {
        "id": "rficwsGk_mQK",
        "colab": {
          "base_uri": "https://localhost:8080/",
          "height": 447
        },
        "outputId": "124eff7a-aeae-4e17-c977-05011ca47fd5"
      },
      "execution_count": 4,
      "outputs": [
        {
          "output_type": "execute_result",
          "data": {
            "text/plain": [
              "<matplotlib.legend.Legend at 0x78c09c302860>"
            ]
          },
          "metadata": {},
          "execution_count": 4
        },
        {
          "output_type": "display_data",
          "data": {
            "text/plain": [
              "<Figure size 640x480 with 1 Axes>"
            ],
            "image/png": "[encoded data removed]"
          },
          "metadata": {}
        }
      ]
    },
    {
      "cell_type": "markdown",
      "source": [
        "# Computing Eigenvectors and Eigenvalues in Numpy\n",
        "\n",
        "You can make the computer calculate these eigenvector/eigenvalues and use that to get exact formulas or find the limiting distribution.\n",
        "\n",
        "Note that by default numpy finds the right eigenvectors (i.e. it finds $\\vec{v}$ so that $M\\vec{v} = \\lambda \\vec{v}$. To make the eigenvectors meaningful as probabilities we want the left eigenvectors (i.e. $\\vec{p} M = \\lambda \\vec{p}$. To make numpy do this we simply take the transpose everywhere (taking the transpose changes the order of multiplication (i.e. $(AB)^T=B^T A^T$)"
      ],
      "metadata": {
        "id": "vRyGVfKrmEeW"
      }
    },
    {
      "cell_type": "code",
      "source": [
        "#use the fact that in the limit all the eigenvalues that are strictly < 1 will vanish\n",
        "\n",
        "eigenvalues, eigenvectors = np.linalg.eig(M.T) #use M transpose to get the left eigenvectors\n",
        "print(f\"{eigenvalues=}\")\n",
        "print(f\"{eigenvectors=}\")\n",
        "\n",
        "\n",
        "M_eig = np.linalg.inv(eigenvectors.T) @ np.diag(eigenvalues.T) @ eigenvectors.T\n",
        " #this is the eigen decomposition of the transition matrix\n",
        " # Note that traditionally the order is the other way E D E^{-1}. It is swiched here again because of the left eigenvalue thing.\n",
        "\n",
        "print(f\"{np.allclose(M_eig,M)=}\") #The M_eig matrix is exactly the matrix M again, but you can manipualte the eigenvalues now!\n",
        "\n"
      ],
      "metadata": {
        "id": "9ZwBRRDsmNgt",
        "outputId": "87286388-b086-4193-d9da-b7669a78f1db",
        "colab": {
          "base_uri": "https://localhost:8080/"
        }
      },
      "execution_count": 9,
      "outputs": [
        {
          "output_type": "stream",
          "name": "stdout",
          "text": [
            "eigenvalues=array([0.2, 1. ])\n",
            "eigenvectors=array([[-0.7071, -0.3162],\n",
            "       [ 0.7071, -0.9487]])\n",
            "np.allclose(M_eig,M)=True\n",
            "rounded_eigs=array([0., 1.])\n",
            "LimitingTransitionMatrix=array([[0.25, 0.25],\n",
            "       [0.75, 0.75]])\n"
          ]
        }
      ]
    },
    {
      "cell_type": "markdown",
      "source": [
        "You can use the eigedecompositon to e.g. find powers of the matrix:\n",
        "\n",
        "$$M = E^{-1} D E  \\implies M^k = E^{-1} D^k E$$"
      ],
      "metadata": {
        "id": "7tdzJggSoQjR"
      }
    },
    {
      "cell_type": "code",
      "source": [
        "#Find an exact formula for M^n using the eigenvalues\n",
        "#formula for M**t can be read off by just taking the eigenvalues to the power t\n",
        "\n",
        "k = 10 #which power you want\n",
        "M_to_the_k_eig = np.linalg.inv(eigenvectors.T) @ np.diag(eigenvalues.T**k) @ eigenvectors.T\n",
        "\n",
        "print(f\"{np.allclose(M_to_the_k_eig,np.linalg.matrix_power(M,k))=}\") #This reconstructs the matrix to a power but you can see how it works!"
      ],
      "metadata": {
        "id": "JyZg4ASdnro6",
        "outputId": "3a3172de-d33b-491b-c347-131a0bb38206",
        "colab": {
          "base_uri": "https://localhost:8080/"
        }
      },
      "execution_count": 12,
      "outputs": [
        {
          "output_type": "stream",
          "name": "stdout",
          "text": [
            "np.allclose(M_to_the_k_eig,np.linalg.matrix_power(M,k))=True\n"
          ]
        }
      ]
    },
    {
      "cell_type": "markdown",
      "source": [
        "You can also use this to find the limit $\\lim_{k\\to\\infty}M^k$ since the all the eigenvalues are $|\\lambda|\\leq $ so:\n",
        "\n",
        "$$\\lim_{k\\to\\infty}\\lambda^k = \\begin{cases} 1 \\text{ if }\\lambda=1 == 0 \\\\ 0 \\text{ if }|\\lambda|<1 \\end{cases}$$"
      ],
      "metadata": {
        "id": "qfSO6suAoPmO"
      }
    },
    {
      "cell_type": "code",
      "source": [
        "#Use the eigendecomposition to find the limiting values\n",
        "\n",
        "#round all the eigenvalues which are |lambda|<1 down to 0. Keep any that are =1 as 1\n",
        "limiting_eigs = 1.0*np.isclose(eigenvalues,1.0)\n",
        "#this is equivalent to rounded_eigs[k] = 1.0 if eigenvalues[k]==1 and rounded_eigs[k] = 0.0 if not.\n",
        "\n",
        "\n",
        "print(f\"{limiting_eigs=}\")\n",
        "\n",
        "LimitingTransitionMatrix = np.linalg.inv(eigenvectors.T) @  np.diag(limiting_eigs) @ eigenvectors.T  #this is the eigen decomposition of the transition matrix\n",
        "print(f\"{LimitingTransitionMatrix=}\")\n",
        "print(f\"{np.linalg.matrix_power(M,1000)=}\")\n"
      ],
      "metadata": {
        "id": "hAZtrTkCnrBf",
        "outputId": "50db8c11-65cc-46d2-ba01-3ac2632e56cc",
        "colab": {
          "base_uri": "https://localhost:8080/"
        }
      },
      "execution_count": 16,
      "outputs": [
        {
          "output_type": "stream",
          "name": "stdout",
          "text": [
            "limiting_eigs=array([0., 1.])\n",
            "LimitingTransitionMatrix=array([[0.25, 0.75],\n",
            "       [0.25, 0.75]])\n",
            "np.linalg.matrix_power(M,1000)=array([[0.25, 0.75],\n",
            "       [0.25, 0.75]])\n"
          ]
        }
      ]
    },
    {
      "cell_type": "markdown",
      "source": [
        "# Steady State Probability Distribution\n"
      ],
      "metadata": {
        "id": "f6VFTqp5UpHy"
      }
    },
    {
      "cell_type": "markdown",
      "source": [
        "If you just try to solve $\\vec{p} = \\vec{p}M$ you get a non-helpful solution"
      ],
      "metadata": {
        "id": "FvboeiL3vokh"
      }
    },
    {
      "cell_type": "code",
      "source": [
        "IminusM = np.eye(2)-M\n",
        "p_steady_state_not_helpful = np.linalg.solve(IminusM,np.zeros(2)) #this just finds the solution [0,0] which is not helpful\n",
        "print(p_steady_state_not_helpful)"
      ],
      "metadata": {
        "colab": {
          "base_uri": "https://localhost:8080/"
        },
        "id": "a7kT8N7UvLTa",
        "outputId": "92904896-7d37-4ab5-d589-44b8c3f2911d"
      },
      "execution_count": 6,
      "outputs": [
        {
          "output_type": "stream",
          "name": "stdout",
          "text": [
            "[ 0. -0.]\n"
          ]
        }
      ]
    },
    {
      "cell_type": "markdown",
      "source": [
        "\n",
        "The steady state probability distribution satisifes $\\vec{p} = \\vec{p} M$. (i.e. its an eigenvector of eignevalue $1$). If the Markov chain is irreducible then we have $\\lim_{n\\to \\infty} \\vec{p}_0 M^n$ always converges to this!\n",
        "\n",
        "Note that to solve this on a computer we rearrange the equation to:\n",
        "$$\\vec{p}(I - M) = \\vec{0}$$\n",
        "and then take the transpose to get:\n",
        "$$(I-M)^T\\vec{p}^T = \\vec{0}$$\n",
        "(This is because computer algebra systems normally use column vectors, not row vectors)\n",
        "\n",
        "We also need to add the extra condtion that $\\sum p_i = 1$ (i.e. its a probability vector). Otherwise the computer cannot find the solution because there is no unique solution (any scalar multiple will satify it too). To do this we augment (i.e. takc on) an extra column of all 1's to our matrix. This encodes the equation:\n",
        "\n",
        "$$\\vec{p} \\begin{bmatrix} 1 \\\\ 1 \\end{bmatrix} = 1$$"
      ],
      "metadata": {
        "id": "pV0e2DT8vu0Q"
      }
    },
    {
      "cell_type": "code",
      "source": [
        "IminusM = np.eye(2)-M\n",
        "my_ones = np.ones((2,1))\n",
        "aug = np.concatenate((my_ones,IminusM),axis=1) #add a conditon on the sum of the entries of p\n",
        "p_steady_state = np.linalg.lstsq(aug.T,np.array([1,0,0]),rcond=None)[0] #find solution to (AugMatrix)p^T = [1,0,0]^T which is our linear system\n",
        "p_steady_state"
      ],
      "metadata": {
        "colab": {
          "base_uri": "https://localhost:8080/"
        },
        "id": "ZIBi9sUl1ICM",
        "outputId": "39d5e35f-3649-48d7-8326-654f918b3c71"
      },
      "execution_count": 7,
      "outputs": [
        {
          "output_type": "execute_result",
          "data": {
            "text/plain": [
              "array([0.25, 0.75])"
            ]
          },
          "metadata": {},
          "execution_count": 7
        }
      ]
    }
  ]
}